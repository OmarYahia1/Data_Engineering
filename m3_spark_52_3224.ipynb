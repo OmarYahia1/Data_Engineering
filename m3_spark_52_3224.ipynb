{
  "nbformat": 4,
  "nbformat_minor": 0,
  "metadata": {
    "colab": {
      "provenance": []
    },
    "kernelspec": {
      "name": "python3",
      "display_name": "Python 3"
    },
    "language_info": {
      "name": "python"
    }
  },
  "cells": [
    {
      "cell_type": "code",
      "execution_count": 1,
      "metadata": {
        "colab": {
          "base_uri": "https://localhost:8080/",
          "height": 73
        },
        "id": "3vREJzc0RZFt",
        "outputId": "650c5aec-6a31-4267-81c7-7eb0dbfb1fe5"
      },
      "outputs": [
        {
          "output_type": "display_data",
          "data": {
            "text/plain": [
              "<IPython.core.display.HTML object>"
            ],
            "text/html": [
              "\n",
              "     <input type=\"file\" id=\"files-f8dce74b-1542-4367-b316-6984bfe385a0\" name=\"files[]\" multiple disabled\n",
              "        style=\"border:none\" />\n",
              "     <output id=\"result-f8dce74b-1542-4367-b316-6984bfe385a0\">\n",
              "      Upload widget is only available when the cell has been executed in the\n",
              "      current browser session. Please rerun this cell to enable.\n",
              "      </output>\n",
              "      <script>// Copyright 2017 Google LLC\n",
              "//\n",
              "// Licensed under the Apache License, Version 2.0 (the \"License\");\n",
              "// you may not use this file except in compliance with the License.\n",
              "// You may obtain a copy of the License at\n",
              "//\n",
              "//      http://www.apache.org/licenses/LICENSE-2.0\n",
              "//\n",
              "// Unless required by applicable law or agreed to in writing, software\n",
              "// distributed under the License is distributed on an \"AS IS\" BASIS,\n",
              "// WITHOUT WARRANTIES OR CONDITIONS OF ANY KIND, either express or implied.\n",
              "// See the License for the specific language governing permissions and\n",
              "// limitations under the License.\n",
              "\n",
              "/**\n",
              " * @fileoverview Helpers for google.colab Python module.\n",
              " */\n",
              "(function(scope) {\n",
              "function span(text, styleAttributes = {}) {\n",
              "  const element = document.createElement('span');\n",
              "  element.textContent = text;\n",
              "  for (const key of Object.keys(styleAttributes)) {\n",
              "    element.style[key] = styleAttributes[key];\n",
              "  }\n",
              "  return element;\n",
              "}\n",
              "\n",
              "// Max number of bytes which will be uploaded at a time.\n",
              "const MAX_PAYLOAD_SIZE = 100 * 1024;\n",
              "\n",
              "function _uploadFiles(inputId, outputId) {\n",
              "  const steps = uploadFilesStep(inputId, outputId);\n",
              "  const outputElement = document.getElementById(outputId);\n",
              "  // Cache steps on the outputElement to make it available for the next call\n",
              "  // to uploadFilesContinue from Python.\n",
              "  outputElement.steps = steps;\n",
              "\n",
              "  return _uploadFilesContinue(outputId);\n",
              "}\n",
              "\n",
              "// This is roughly an async generator (not supported in the browser yet),\n",
              "// where there are multiple asynchronous steps and the Python side is going\n",
              "// to poll for completion of each step.\n",
              "// This uses a Promise to block the python side on completion of each step,\n",
              "// then passes the result of the previous step as the input to the next step.\n",
              "function _uploadFilesContinue(outputId) {\n",
              "  const outputElement = document.getElementById(outputId);\n",
              "  const steps = outputElement.steps;\n",
              "\n",
              "  const next = steps.next(outputElement.lastPromiseValue);\n",
              "  return Promise.resolve(next.value.promise).then((value) => {\n",
              "    // Cache the last promise value to make it available to the next\n",
              "    // step of the generator.\n",
              "    outputElement.lastPromiseValue = value;\n",
              "    return next.value.response;\n",
              "  });\n",
              "}\n",
              "\n",
              "/**\n",
              " * Generator function which is called between each async step of the upload\n",
              " * process.\n",
              " * @param {string} inputId Element ID of the input file picker element.\n",
              " * @param {string} outputId Element ID of the output display.\n",
              " * @return {!Iterable<!Object>} Iterable of next steps.\n",
              " */\n",
              "function* uploadFilesStep(inputId, outputId) {\n",
              "  const inputElement = document.getElementById(inputId);\n",
              "  inputElement.disabled = false;\n",
              "\n",
              "  const outputElement = document.getElementById(outputId);\n",
              "  outputElement.innerHTML = '';\n",
              "\n",
              "  const pickedPromise = new Promise((resolve) => {\n",
              "    inputElement.addEventListener('change', (e) => {\n",
              "      resolve(e.target.files);\n",
              "    });\n",
              "  });\n",
              "\n",
              "  const cancel = document.createElement('button');\n",
              "  inputElement.parentElement.appendChild(cancel);\n",
              "  cancel.textContent = 'Cancel upload';\n",
              "  const cancelPromise = new Promise((resolve) => {\n",
              "    cancel.onclick = () => {\n",
              "      resolve(null);\n",
              "    };\n",
              "  });\n",
              "\n",
              "  // Wait for the user to pick the files.\n",
              "  const files = yield {\n",
              "    promise: Promise.race([pickedPromise, cancelPromise]),\n",
              "    response: {\n",
              "      action: 'starting',\n",
              "    }\n",
              "  };\n",
              "\n",
              "  cancel.remove();\n",
              "\n",
              "  // Disable the input element since further picks are not allowed.\n",
              "  inputElement.disabled = true;\n",
              "\n",
              "  if (!files) {\n",
              "    return {\n",
              "      response: {\n",
              "        action: 'complete',\n",
              "      }\n",
              "    };\n",
              "  }\n",
              "\n",
              "  for (const file of files) {\n",
              "    const li = document.createElement('li');\n",
              "    li.append(span(file.name, {fontWeight: 'bold'}));\n",
              "    li.append(span(\n",
              "        `(${file.type || 'n/a'}) - ${file.size} bytes, ` +\n",
              "        `last modified: ${\n",
              "            file.lastModifiedDate ? file.lastModifiedDate.toLocaleDateString() :\n",
              "                                    'n/a'} - `));\n",
              "    const percent = span('0% done');\n",
              "    li.appendChild(percent);\n",
              "\n",
              "    outputElement.appendChild(li);\n",
              "\n",
              "    const fileDataPromise = new Promise((resolve) => {\n",
              "      const reader = new FileReader();\n",
              "      reader.onload = (e) => {\n",
              "        resolve(e.target.result);\n",
              "      };\n",
              "      reader.readAsArrayBuffer(file);\n",
              "    });\n",
              "    // Wait for the data to be ready.\n",
              "    let fileData = yield {\n",
              "      promise: fileDataPromise,\n",
              "      response: {\n",
              "        action: 'continue',\n",
              "      }\n",
              "    };\n",
              "\n",
              "    // Use a chunked sending to avoid message size limits. See b/62115660.\n",
              "    let position = 0;\n",
              "    do {\n",
              "      const length = Math.min(fileData.byteLength - position, MAX_PAYLOAD_SIZE);\n",
              "      const chunk = new Uint8Array(fileData, position, length);\n",
              "      position += length;\n",
              "\n",
              "      const base64 = btoa(String.fromCharCode.apply(null, chunk));\n",
              "      yield {\n",
              "        response: {\n",
              "          action: 'append',\n",
              "          file: file.name,\n",
              "          data: base64,\n",
              "        },\n",
              "      };\n",
              "\n",
              "      let percentDone = fileData.byteLength === 0 ?\n",
              "          100 :\n",
              "          Math.round((position / fileData.byteLength) * 100);\n",
              "      percent.textContent = `${percentDone}% done`;\n",
              "\n",
              "    } while (position < fileData.byteLength);\n",
              "  }\n",
              "\n",
              "  // All done.\n",
              "  yield {\n",
              "    response: {\n",
              "      action: 'complete',\n",
              "    }\n",
              "  };\n",
              "}\n",
              "\n",
              "scope.google = scope.google || {};\n",
              "scope.google.colab = scope.google.colab || {};\n",
              "scope.google.colab._files = {\n",
              "  _uploadFiles,\n",
              "  _uploadFilesContinue,\n",
              "};\n",
              "})(self);\n",
              "</script> "
            ]
          },
          "metadata": {}
        },
        {
          "output_type": "stream",
          "name": "stdout",
          "text": [
            "Saving fintech_data_30_52_3224.parquet to fintech_data_30_52_3224.parquet\n"
          ]
        }
      ],
      "source": [
        "from google.colab import files\n",
        "uploaded = files.upload()"
      ]
    },
    {
      "cell_type": "code",
      "source": [
        "from pyspark.sql import SparkSession\n",
        "#Load the dataset.\n",
        "spark = SparkSession.builder.appName(\"Milestone3\").getOrCreate()\n",
        "df = spark.read.parquet(\"fintech_data_30_52_3224.parquet\")\n",
        "df.printSchema()\n",
        "df.summary().show()"
      ],
      "metadata": {
        "id": "UznZYE9HRa8L",
        "colab": {
          "base_uri": "https://localhost:8080/"
        },
        "outputId": "63b1135b-a28a-466f-df78-0451aee40996"
      },
      "execution_count": 36,
      "outputs": [
        {
          "output_type": "stream",
          "name": "stdout",
          "text": [
            "root\n",
            " |-- Customer Id: string (nullable = true)\n",
            " |-- Emp Title: string (nullable = true)\n",
            " |-- Emp Length: string (nullable = true)\n",
            " |-- Home Ownership: string (nullable = true)\n",
            " |-- Annual Inc: double (nullable = true)\n",
            " |-- Annual Inc Joint: double (nullable = true)\n",
            " |-- Verification Status: string (nullable = true)\n",
            " |-- Zip Code: string (nullable = true)\n",
            " |-- Addr State: string (nullable = true)\n",
            " |-- Avg Cur Bal: double (nullable = true)\n",
            " |-- Tot Cur Bal: double (nullable = true)\n",
            " |-- Loan Id: long (nullable = true)\n",
            " |-- Loan Status: string (nullable = true)\n",
            " |-- Loan Amount: double (nullable = true)\n",
            " |-- State: string (nullable = true)\n",
            " |-- Funded Amount: double (nullable = true)\n",
            " |-- Term: string (nullable = true)\n",
            " |-- Int Rate: double (nullable = true)\n",
            " |-- Grade: long (nullable = true)\n",
            " |-- Issue Date: string (nullable = true)\n",
            " |-- Pymnt Plan: boolean (nullable = true)\n",
            " |-- Type: string (nullable = true)\n",
            " |-- Purpose: string (nullable = true)\n",
            " |-- Description: string (nullable = true)\n",
            "\n",
            "+-------+--------------------+-------------------+----------+--------------+-----------------+-----------------+-------------------+--------+----------+------------------+------------------+------------------+------------------+-----------------+-----+-----------------+----------+-------------------+------------------+-----------------+----------+-------+-------------------+\n",
            "|summary|         Customer Id|          Emp Title|Emp Length|Home Ownership|       Annual Inc| Annual Inc Joint|Verification Status|Zip Code|Addr State|       Avg Cur Bal|       Tot Cur Bal|           Loan Id|       Loan Status|      Loan Amount|State|    Funded Amount|      Term|           Int Rate|             Grade|       Issue Date|      Type|Purpose|        Description|\n",
            "+-------+--------------------+-------------------+----------+--------------+-----------------+-----------------+-------------------+--------+----------+------------------+------------------+------------------+------------------+-----------------+-----+-----------------+----------+-------------------+------------------+-----------------+----------+-------+-------------------+\n",
            "|  count|               27029|              24648|     25119|         27029|            27029|             1869|              27029|   27029|     27029|             27029|             27029|             27029|             27029|            27029|27029|            27029|     27029|              25830|             27029|            27029|     27029|  27029|              26802|\n",
            "|   mean|                NULL|               14.0|      NULL|          NULL|79234.46459610049| 129782.763281041|               NULL|    NULL|      NULL|13647.522882829553| 144558.6403122572|134917.48277775722|              NULL|15383.33086684672| NULL|15383.33086684672|      NULL|0.13102551684088196|10.942136224055645|             NULL|      NULL|   NULL|               NULL|\n",
            "| stddev|                NULL|               NULL|      NULL|          NULL|67604.25685226073|78900.46092163693|               NULL|    NULL|      NULL|17167.001076494955|165367.46854073237| 78044.81341165469|              NULL|9451.294634138032| NULL|9451.294634138032|      NULL|0.04884604467951908|  6.32519147926075|             NULL|      NULL|   NULL|               NULL|\n",
            "|    min|YiI+LVx4MDBceDA0X...|   \\tPasteurization|    1 year|           ANY|             34.0|          15400.0|       Not Verified|   010xx|        AK|               0.0|               0.0|                 6|       Charged Off|           1000.0|   AK|           1000.0| 36 months|             0.0531|                 1|   12 August 2012|DIRECT_PAY|    car| Consolidation Loan|\n",
            "|    25%|                NULL|               14.0|      NULL|          NULL|         47340.07|          86400.0|               NULL|    NULL|      NULL|            3100.0|           29143.0|             67308|              NULL|           8000.0| NULL|           8000.0|      NULL|             0.0943|                 6|             NULL|      NULL|   NULL|               NULL|\n",
            "|    50%|                NULL|               14.0|      NULL|          NULL|          66700.0|         113000.0|               NULL|    NULL|      NULL|            7326.0|           80199.0|            134428|              NULL|          13000.0| NULL|          13000.0|      NULL|             0.1262|                10|             NULL|      NULL|   NULL|               NULL|\n",
            "|    75%|                NULL|               14.0|      NULL|          NULL|          95000.0|         151000.0|               NULL|    NULL|      NULL|           18874.0|          215301.0|            202519|              NULL|          20150.0| NULL|          20150.0|      NULL|             0.1602|                15|             NULL|      NULL|   NULL|               NULL|\n",
            "|    max|Yidzflx4OGRceGNmX...|{Owner}Truck Driver|  < 1 year|          RENT|        6200000.0|        1168000.0|           Verified|   999xx|        WY|          524933.0|         3709587.0|            270293|Late (31-120 days)|          40000.0|   WY|          40000.0| 60 months|             0.3099|                35|19 September 2019| Joint App|wedding|   will help plenty|\n",
            "+-------+--------------------+-------------------+----------+--------------+-----------------+-----------------+-------------------+--------+----------+------------------+------------------+------------------+------------------+-----------------+-----+-----------------+----------+-------------------+------------------+-----------------+----------+-------+-------------------+\n",
            "\n"
          ]
        }
      ]
    },
    {
      "cell_type": "code",
      "source": [
        "#Preview first 20 rows.\n",
        "df.show(20)"
      ],
      "metadata": {
        "colab": {
          "base_uri": "https://localhost:8080/"
        },
        "id": "9zCgPDnBTBLK",
        "outputId": "93872c1e-7e8a-40e3-9e35-cfa6754749b9"
      },
      "execution_count": 37,
      "outputs": [
        {
          "output_type": "stream",
          "name": "stdout",
          "text": [
            "+--------------------+--------------------+----------+--------------+----------+----------------+-------------------+--------+----------+-----------+-----------+-------+-----------+-----------+-----+-------------+----------+--------+-----+-----------------+----------+----------+------------------+--------------------+\n",
            "|         Customer Id|           Emp Title|Emp Length|Home Ownership|Annual Inc|Annual Inc Joint|Verification Status|Zip Code|Addr State|Avg Cur Bal|Tot Cur Bal|Loan Id|Loan Status|Loan Amount|State|Funded Amount|      Term|Int Rate|Grade|       Issue Date|Pymnt Plan|      Type|           Purpose|         Description|\n",
            "+--------------------+--------------------+----------+--------------+----------+----------------+-------------------+--------+----------+-----------+-----------+-------+-----------+-----------+-----+-------------+----------+--------+-----+-----------------+----------+----------+------------------+--------------------+\n",
            "|YidceGFjblx4YzVeX...|  Principal Examiner| 10+ years|      MORTGAGE|  110000.0|            NULL|       Not Verified|   110xx|        NY|    24163.0|   555745.0| 161995|    Current|    16000.0|   NY|      16000.0| 60 months|  0.1727|   16| 16 February 2016|     false|INDIVIDUAL|debt_consolidation|  Debt consolidation|\n",
            "|YidceGE1XHgxNFx4Y...|Route Services Ma...|    1 year|      MORTGAGE|  104000.0|            NULL|    Source Verified|   941xx|        CA|    10626.0|    95633.0| 172492|    Current|    17000.0|   CA|      17000.0| 36 months|  0.0881|    3| 19 December 2019|     false|Individual|debt_consolidation|  Debt consolidation|\n",
            "|Yic3Plx4ODNceGIzX...|  AdamsMorioka, Inc.|   2 years|          RENT|   75000.0|            NULL|       Not Verified|   900xx|        CA|     3492.0|    20950.0|  82222| Fully Paid|    10000.0|   CA|      10000.0| 36 months|  0.1212|    7|  13 January 2013|     false|INDIVIDUAL|debt_consolidation|  Debt Consolidation|\n",
            "|YidceGYwXHhlNVx4Y...|    Owner / Operator|   3 years|           OWN|   70000.0|            NULL|       Not Verified|   598xx|        MT|     8429.0|   134864.0| 147016|    Current|    15000.0|   MT|      15000.0| 36 months|  0.0735|    5|  18 January 2018|     false|Individual|debt_consolidation|  Debt consolidation|\n",
            "|YicjXHhhZlx4OWRce...|          Bartender |   4 years|          RENT|   55000.0|            NULL|           Verified|   601xx|        IL|     5513.0|    49621.0|  21809|    Current|     4500.0|   IL|       4500.0| 36 months|  0.1499|   12| 16 December 2016|     false|INDIVIDUAL|debt_consolidation|  Debt consolidation|\n",
            "|YidceDhjTWNceDA1X...|             Teacher| 10+ years|      MORTGAGE|  111000.0|            NULL|           Verified|   082xx|        NJ|    46607.0|   466069.0|  21896|    Current|     4500.0|   NJ|       4500.0| 36 months|  0.0671|    5|    18 April 2018|     false|Individual|debt_consolidation|  Debt consolidation|\n",
            "|YidBaFx4YTR7XHhlO...|Conference Operat...| 10+ years|      MORTGAGE|  115000.0|            NULL|       Not Verified|   945xx|        CA|    48211.0|   578537.0| 220401| Fully Paid|    24000.0|   CA|      24000.0| 60 months|  0.2145|   17|   17 August 2017|     false|Individual|       credit_card|Credit card refin...|\n",
            "|YidYXHg4M1x4OTFce...|                NULL|  < 1 year|          RENT|  180000.0|            NULL|       Not Verified|   928xx|        CA|     5750.0|    17250.0|  77303|    Current|     9100.0|   CA|       9100.0| 36 months|  0.0819|    4| 19 November 2019|     false|Individual|debt_consolidation|  Debt consolidation|\n",
            "|YidceDdmXHhhMy1ce...|Medical Coordinator | 10+ years|      MORTGAGE|   65000.0|            NULL|       Not Verified|   945xx|        CA|    11823.0|   177338.0| 182952| Fully Paid|    18725.0|   CA|      18725.0| 36 months|  0.0646|    5|19 September 2019|     false|Individual|       credit_card|Credit card refin...|\n",
            "|YidceGU5Ilx4YWJWX...|           Technical| 10+ years|      MORTGAGE|  153000.0|            NULL|           Verified|   953xx|        CA|    24628.0|   492550.0| 259521|    Current|    35000.0|   CA|      35000.0| 60 months|  0.1447|   12|     18 July 2018|     false|Individual|debt_consolidation|  Debt consolidation|\n",
            "|YidceDhmXHhiMlx4Y...|            operator| 10+ years|      MORTGAGE|   41000.0|            NULL|           Verified|   778xx|        TX|     6416.0|    57745.0| 111299|    Current|    11000.0|   TX|      11000.0| 60 months|    NULL|   16| 14 February 2014|     false|INDIVIDUAL|debt_consolidation|  Debt consolidation|\n",
            "|Yic1XHhkN1x4OTchd...|Software Test eng...|  < 1 year|      MORTGAGE|   80000.0|            NULL|    Source Verified|   921xx|        CA|    35656.0|   356561.0| 210190|Charged Off|    22000.0|   CA|      22000.0| 60 months|  0.1448|   15| 15 December 2015|     false|Individual|       credit_card|Credit card refin...|\n",
            "|YidceGJhXHhjNlx4Z...| Clinical Supervisor|   3 years|          RENT|   64000.0|            NULL|    Source Verified|   921xx|        CA|    35789.0|   322102.0|  19518| Fully Paid|     4000.0|   CA|       4000.0| 36 months|  0.1531|   11|    14 April 2014|     false|INDIVIDUAL|    small_business|            Business|\n",
            "|YiJceDAxXHhlMVx4Y...|         Electrician| 10+ years|      MORTGAGE|   60000.0|            NULL|    Source Verified|   313xx|        GA|     7784.0|    70056.0| 130521|Charged Off|    12575.0|   GA|      12575.0| 60 months|   0.202|   24|   14 August 2014|     false|INDIVIDUAL|debt_consolidation|  Debt consolidation|\n",
            "|YidceGFkXHhmNlBce...|    paraprofessional|   4 years|           OWN|   60000.0|            NULL|       Not Verified|   607xx|        IL|     1914.0|    26795.0| 212962|    Current|    23000.0|   IL|      23000.0| 60 months|   0.263|   25|   17 August 2017|     false|Individual|debt_consolidation|  Debt consolidation|\n",
            "|Yicwalx4ZmVceGVhf...|Director of Techn...|   2 years|      MORTGAGE|  154000.0|            NULL|    Source Verified|   257xx|        WV|     5543.0|   216179.0| 268218|    Current|    40000.0|   WV|      40000.0| 60 months|  0.1047|   10|   18 August 2018|     false|Individual|       credit_card|Credit card refin...|\n",
            "|YidceGE1dFx4Zjdce...|  Branch Manager, VP|   4 years|      MORTGAGE|  108169.0|            NULL|    Source Verified|   917xx|        CA|    26025.0|   702677.0| 236855| Fully Paid|    28000.0|   CA|      28000.0| 60 months|  0.1367|   15| 15 December 2015|     false|Individual|debt_consolidation|  Debt consolidation|\n",
            "|YidceDgwXHgxZHBce...|                  RN| 10+ years|      MORTGAGE|   68000.0|            NULL|       Not Verified|   806xx|        CO|    48554.0|   388435.0| 215696|    Current|    24000.0|   CO|      24000.0| 36 months|  0.0916|    6|     16 June 2016|     false|INDIVIDUAL|       credit_card|Credit card refin...|\n",
            "|YidceDkzXHhiY1x4Y...|  BILLING SPECIALIST|   8 years|          RENT|   45000.0|            NULL|           Verified|   029xx|        RI|     1526.0|    27462.0| 110324|    Current|    11000.0|   RI|      11000.0| 36 months|  0.1299|   11|    16 March 2016|     false|INDIVIDUAL|debt_consolidation|  Debt consolidation|\n",
            "|YidceGZkXHhkYlx4Z...|     General Manager|   3 years|          RENT|   75000.0|            NULL|           Verified|   211xx|        MD|     9147.0|    27441.0|  22658|Charged Off|     4550.0|   MD|       4550.0| 36 months|  0.1446|   15|      16 May 2016|     false|INDIVIDUAL|debt_consolidation|                NULL|\n",
            "+--------------------+--------------------+----------+--------------+----------+----------------+-------------------+--------+----------+-----------+-----------+-------+-----------+-----------+-----+-------------+----------+--------+-----+-----------------+----------+----------+------------------+--------------------+\n",
            "only showing top 20 rows\n",
            "\n"
          ]
        }
      ]
    },
    {
      "cell_type": "code",
      "source": [
        "#How many partitions is this dataframe split into?\n",
        "print(df.rdd.getNumPartitions())"
      ],
      "metadata": {
        "colab": {
          "base_uri": "https://localhost:8080/"
        },
        "id": "6QY0aKyvTO5m",
        "outputId": "2d484599-558f-4830-9032-c7a9bd85bdee"
      },
      "execution_count": 38,
      "outputs": [
        {
          "output_type": "stream",
          "name": "stdout",
          "text": [
            "1\n"
          ]
        }
      ]
    },
    {
      "cell_type": "code",
      "source": [
        "import os\n",
        "#Change partitions to be equal to the number of your logical cores\n",
        "num_of_logical_cores = os.cpu_count()\n",
        "df = df.repartition(num_of_logical_cores)"
      ],
      "metadata": {
        "id": "UAkF0zogTjGK"
      },
      "execution_count": 39,
      "outputs": []
    },
    {
      "cell_type": "code",
      "source": [
        "print(df.rdd.getNumPartitions())"
      ],
      "metadata": {
        "colab": {
          "base_uri": "https://localhost:8080/"
        },
        "id": "OnHEIODFT31q",
        "outputId": "5a026992-48d7-4bb0-aeaf-12e41235cd8c"
      },
      "execution_count": 40,
      "outputs": [
        {
          "output_type": "stream",
          "name": "stdout",
          "text": [
            "2\n"
          ]
        }
      ]
    },
    {
      "cell_type": "code",
      "source": [
        "#Rename all columns (replacing a space with an underscore, and making it lowercase)\n",
        "df = df.selectExpr([f\"`{col}` as {col.lower().replace(' ', '_')}\" for col in df.columns])"
      ],
      "metadata": {
        "id": "1NqRpo3DT48p"
      },
      "execution_count": 41,
      "outputs": []
    },
    {
      "cell_type": "code",
      "source": [
        "df.show(20)"
      ],
      "metadata": {
        "colab": {
          "base_uri": "https://localhost:8080/"
        },
        "id": "-8FUw_pYUD9t",
        "outputId": "1afd774c-f8a1-49f0-e968-dc7b63d99559"
      },
      "execution_count": 42,
      "outputs": [
        {
          "output_type": "stream",
          "name": "stdout",
          "text": [
            "+--------------------+--------------------+----------+--------------+----------+----------------+-------------------+--------+----------+-----------+-----------+-------+-----------+-----------+-----+-------------+----------+--------+-----+-----------------+----------+----------+------------------+--------------------+\n",
            "|         customer_id|           emp_title|emp_length|home_ownership|annual_inc|annual_inc_joint|verification_status|zip_code|addr_state|avg_cur_bal|tot_cur_bal|loan_id|loan_status|loan_amount|state|funded_amount|      term|int_rate|grade|       issue_date|pymnt_plan|      type|           purpose|         description|\n",
            "+--------------------+--------------------+----------+--------------+----------+----------------+-------------------+--------+----------+-----------+-----------+-------+-----------+-----------+-----+-------------+----------+--------+-----+-----------------+----------+----------+------------------+--------------------+\n",
            "|YidceGRiIFx4Zjh3X...|                NULL|      NULL|      MORTGAGE|   42000.0|            NULL|           Verified|   283xx|        NC|    47195.0|   188779.0|  50296|    Current|     6500.0|   NC|       6500.0| 36 months|  0.1774|   13|   19 August 2019|     false|Individual|  home_improvement|    Home improvement|\n",
            "|YiJceDA0MjtceGVmX...| Maintenance Analyst|   9 years|      MORTGAGE|  116004.0|            NULL|    Source Verified|   984xx|        WA|    12231.0|   354686.0|  12297| Fully Paid|     3000.0|   WA|       3000.0| 36 months|   0.263|   24|     17 July 2017|     false|Individual|debt_consolidation|  Debt consolidation|\n",
            "|YidceGI5XHgwNXZce...|               owner| 10+ years|      MORTGAGE|  166000.0|            NULL|       Not Verified|   906xx|        CA|     3374.0|    40483.0| 173548| Fully Paid|    17000.0|   CA|      17000.0| 60 months|  0.1333|   15|  15 October 2015|     false|Individual|    small_business|            Business|\n",
            "|YidFXHg5M1x4ZTNce...|          supervisor|   5 years|          RENT|   40000.0|            NULL|    Source Verified|   641xx|        MO|     1703.0|    11920.0|  37086| Fully Paid|     5500.0|   MO|       5500.0| 36 months|  0.1903|   19|      17 May 2017|     false|Individual|debt_consolidation|  Debt consolidation|\n",
            "|YidceDhlXHgxZlx4Y...|     prosthetic tech|   9 years|      MORTGAGE|   88000.0|            NULL|       Not Verified|   117xx|        NY|    69566.0|   347829.0|  25352|    Current|     5000.0|   NY|       5000.0| 36 months|  0.0607|    3|    18 April 2018|     false|Individual|             other|               Other|\n",
            "|YiJcclx4N2Z8XHhkN...|Assistant Vice Pr...| 10+ years|          RENT|  180000.0|            NULL|    Source Verified|   062xx|        CT|     6216.0|    93234.0|  97126|    Current|    10000.0|   CT|      10000.0| 36 months|  0.1612|   15|  19 October 2019|     false|Individual|       credit_card|Credit card refin...|\n",
            "|YidlXHhjNH1ceGZhX...|       Sales Manager| 10+ years|      MORTGAGE|   60000.0|            NULL|    Source Verified|   336xx|        FL|    27389.0|   219114.0| 117878|    Current|    12000.0|   FL|      12000.0| 36 months|  0.0799|    5|     16 July 2016|     false|INDIVIDUAL|debt_consolidation|  Debt consolidation|\n",
            "|YidceDE1XHhlMDZ2X...|Executive Directo...|  < 1 year|      MORTGAGE|  153000.0|            NULL|    Source Verified|   761xx|        TX|    42332.0|   338656.0| 162097| Fully Paid|    16000.0|   TX|      16000.0| 36 months|  0.1601|   11|      18 May 2018|     false|Individual|             house|         Home buying|\n",
            "|YiJceGFlXHhmZFx4O...|Social Studies Te...|   9 years|          RENT|   62000.0|            NULL|       Not Verified|   151xx|        PA|     3205.0|    35260.0|  25613|    Current|     5000.0|   PA|       5000.0| 36 months|  0.0649|    5|      16 May 2016|     false|INDIVIDUAL|             other|               Other|\n",
            "|YidceDk1LFx4YmZce...|             Driver | 10+ years|      MORTGAGE|  104000.0|            NULL|    Source Verified|   431xx|        OH|    15688.0|   219636.0| 168055|    Current|    16000.0|   OH|      16000.0| 60 months|  0.1499|   14|    17 April 2017|     false|Individual|debt_consolidation|  Debt consolidation|\n",
            "|YiJceDgzXHg5NS5ce...|Superintendent of...| 10+ years|          RENT|  104000.0|            NULL|           Verified|   908xx|        CA|    10793.0|   140305.0| 191861|    Current|    20000.0|   CA|      20000.0| 36 months|  0.1075|    8|    16 April 2016|     false|INDIVIDUAL|debt_consolidation|  Debt consolidation|\n",
            "|YidceGEzXHhiYjJce...|Medical laborator...|   6 years|           OWN|   79000.0|            NULL|           Verified|   296xx|        SC|     3727.0|    52184.0| 239818|    Current|    30000.0|   SC|      30000.0| 36 months|  0.1602|   14|   17 August 2017|     false|Individual|debt_consolidation|  Debt consolidation|\n",
            "|YidKXHhjMFx4YTlce...|                NULL|      NULL|      MORTGAGE|   21000.0|            NULL|           Verified|   770xx|        TX|     5508.0|    44065.0|  17646| Fully Paid|     4000.0|   TX|       4000.0| 36 months|  0.0917|    6| 15 November 2015|     false|Individual|  home_improvement|    Home improvement|\n",
            "|YidceGVhXHhjN1x4Y...|               Owner|   3 years|      MORTGAGE|   55800.0|         76600.0|       Not Verified|   498xx|        MI|    18297.0|   128076.0|  92256|    Current|    10000.0|   MI|      10000.0| 36 months|  0.1171|   10|     19 July 2019|     false| Joint App|       credit_card|Credit card refin...|\n",
            "|YidhXHhjZlx4MTA6X...|   kaiser permanente| 10+ years|          RENT|  125000.0|            NULL|           Verified|   921xx|        CA|     3763.0|    30105.0| 195929| Fully Paid|    20000.0|   CA|      20000.0| 36 months|   0.224|   22|13 September 2013|     false|INDIVIDUAL|    small_business|            Business|\n",
            "|YidceDgxPzhceGM0X...|   Financial Advisor|  < 1 year|          RENT|   64000.0|            NULL|    Source Verified|   223xx|        VA|     3157.0|    41045.0| 203609|    Current|    20800.0|   VA|      20800.0| 36 months|  0.1041|    9|    18 March 2018|     false|Individual|             other|               Other|\n",
            "|YidceGE4XHg4Zlx4Y...|            Staff PT|   5 years|          RENT|   85000.0|            NULL|           Verified|   114xx|        NY|     3443.0|    41312.0| 187429| Fully Paid|    20000.0|   NY|      20000.0| 36 months|  0.0818|   10|     15 July 2015|     false|Individual|debt_consolidation|  Debt consolidation|\n",
            "|YidceGEwXHhjMVx4O...|    Personal Shopper|   7 years|          RENT|   30000.0|            NULL|    Source Verified|   891xx|        NV|     1077.0|    11844.0|  19858|    Current|     4000.0|   NV|       4000.0| 36 months|  0.1774|   12|19 September 2019|     false|Individual|       credit_card|Credit card refin...|\n",
            "|YidceDhhdFx4ZjJ3R...|                NULL|      NULL|      MORTGAGE|   68000.0|            NULL|       Not Verified|   804xx|        CO|    33640.0|   201841.0| 146220| Fully Paid|    15000.0|   CO|      15000.0| 36 months|  0.0649|    2| 15 December 2015|     false|Individual|  home_improvement|    Home improvement|\n",
            "|YiJceGE3XHhjZVx4Y...|                NULL|  < 1 year|           ANY|  150000.0|            NULL|    Source Verified|   346xx|        FL|     4723.0|    28335.0| 151449|    Current|    15000.0|   FL|      15000.0| 36 months|   0.124|    8|    19 April 2019|     false|Individual|debt_consolidation|  Debt consolidation|\n",
            "+--------------------+--------------------+----------+--------------+----------+----------------+-------------------+--------+----------+-----------+-----------+-------+-----------+-----------+-----+-------------+----------+--------+-----+-----------------+----------+----------+------------------+--------------------+\n",
            "only showing top 20 rows\n",
            "\n"
          ]
        }
      ]
    },
    {
      "cell_type": "code",
      "source": [
        "#Create a function that takes in the df and returns any data structure of your choice(df/dict,list,tuple,etc)\n",
        "#which has the name of the column and percentage of missing entries from the whole dataset.\n",
        "def detect_missing(df):\n",
        "    return {col: (df.filter(df[col].isNull()).count() / df.count()) * 100 for col in df.columns}\n",
        "\n",
        "missing_info = detect_missing(df)\n",
        "#Printout the missing info\n",
        "print(missing_info)"
      ],
      "metadata": {
        "colab": {
          "base_uri": "https://localhost:8080/"
        },
        "id": "VoWH3WRhUHzH",
        "outputId": "49d71a4d-f168-4a8b-fed6-c90788f04c4b"
      },
      "execution_count": 43,
      "outputs": [
        {
          "output_type": "stream",
          "name": "stdout",
          "text": [
            "{'customer_id': 0.0, 'emp_title': 8.809056938843463, 'emp_length': 7.066484146657294, 'home_ownership': 0.0, 'annual_inc': 0.0, 'annual_inc_joint': 93.08520478005106, 'verification_status': 0.0, 'zip_code': 0.0, 'addr_state': 0.0, 'avg_cur_bal': 0.0, 'tot_cur_bal': 0.0, 'loan_id': 0.0, 'loan_status': 0.0, 'loan_amount': 0.0, 'state': 0.0, 'funded_amount': 0.0, 'term': 0.0, 'int_rate': 4.435976173739317, 'grade': 0.0, 'issue_date': 0.0, 'pymnt_plan': 0.0, 'type': 0.0, 'purpose': 0.0, 'description': 0.8398386917755005}\n"
          ]
        }
      ]
    },
    {
      "cell_type": "code",
      "source": [
        "#Handle missing:\n",
        "from pyspark.sql.functions import col\n",
        "\n",
        "# 1. Replace numeric columns with 0\n",
        "numeric_columns = [\"annual_inc_joint\", \"int_rate\"]\n",
        "df = df.fillna({col_name: 0 for col_name in numeric_columns})\n",
        "\n",
        "# 2. Replace categorical columns with their mode\n",
        "categorical_columns = [\"emp_title\", \"emp_length\", \"description\"]\n",
        "for col_name in categorical_columns:\n",
        "    mode_df = df.groupBy(col_name).count().orderBy(col('count').desc())\n",
        "    mode_values = mode_df.select(col_name).collect()\n",
        "\n",
        "    # Get the first mode (if available)\n",
        "    first_mode = mode_values[0][0] if len(mode_values) > 0 else None\n",
        "    # Get the second mode if the first mode is None\n",
        "    second_mode = mode_values[1][0] if len(mode_values) > 1 else \"unknown\"\n",
        "\n",
        "    # Use first mode if it's not None, otherwise use second mode\n",
        "    mode_value = first_mode if first_mode is not None else second_mode\n",
        "\n",
        "    print(f\"Replacing missing values in {col_name} with mode: {mode_value}\")\n",
        "    df = df.fillna(value=mode_value, subset=[col_name])\n",
        "#The emp_title feature is replaced with the second mode because the first mode in None"
      ],
      "metadata": {
        "colab": {
          "base_uri": "https://localhost:8080/"
        },
        "id": "bCw9-osEUSdX",
        "outputId": "0628abe9-9080-46c9-c8da-35fb34b6ff34"
      },
      "execution_count": 44,
      "outputs": [
        {
          "output_type": "stream",
          "name": "stdout",
          "text": [
            "Replacing missing values in emp_title with mode: Teacher\n",
            "Replacing missing values in emp_length with mode: 10+ years\n",
            "Replacing missing values in description with mode: Debt consolidation\n"
          ]
        }
      ]
    },
    {
      "cell_type": "code",
      "source": [
        "#Afterwards, check that there are no missing values\n",
        "missing_info = detect_missing(df)\n",
        "print(missing_info)"
      ],
      "metadata": {
        "colab": {
          "base_uri": "https://localhost:8080/"
        },
        "id": "O6o_E1xgXXby",
        "outputId": "f0e66f97-d240-4e69-ce9d-8843d741079f"
      },
      "execution_count": 45,
      "outputs": [
        {
          "output_type": "stream",
          "name": "stdout",
          "text": [
            "{'customer_id': 0.0, 'emp_title': 0.0, 'emp_length': 0.0, 'home_ownership': 0.0, 'annual_inc': 0.0, 'annual_inc_joint': 0.0, 'verification_status': 0.0, 'zip_code': 0.0, 'addr_state': 0.0, 'avg_cur_bal': 0.0, 'tot_cur_bal': 0.0, 'loan_id': 0.0, 'loan_status': 0.0, 'loan_amount': 0.0, 'state': 0.0, 'funded_amount': 0.0, 'term': 0.0, 'int_rate': 0.0, 'grade': 0.0, 'issue_date': 0.0, 'pymnt_plan': 0.0, 'type': 0.0, 'purpose': 0.0, 'description': 0.0}\n"
          ]
        }
      ]
    },
    {
      "cell_type": "code",
      "source": [
        "df.show(20)"
      ],
      "metadata": {
        "id": "_kDEBUmisOF6",
        "colab": {
          "base_uri": "https://localhost:8080/"
        },
        "outputId": "98a700c3-b5a7-47c2-9ac5-af77e2b0f426"
      },
      "execution_count": 46,
      "outputs": [
        {
          "output_type": "stream",
          "name": "stdout",
          "text": [
            "+--------------------+--------------------+----------+--------------+----------+----------------+-------------------+--------+----------+-----------+-----------+-------+-----------+-----------+-----+-------------+----------+--------+-----+-----------------+----------+----------+------------------+--------------------+\n",
            "|         customer_id|           emp_title|emp_length|home_ownership|annual_inc|annual_inc_joint|verification_status|zip_code|addr_state|avg_cur_bal|tot_cur_bal|loan_id|loan_status|loan_amount|state|funded_amount|      term|int_rate|grade|       issue_date|pymnt_plan|      type|           purpose|         description|\n",
            "+--------------------+--------------------+----------+--------------+----------+----------------+-------------------+--------+----------+-----------+-----------+-------+-----------+-----------+-----+-------------+----------+--------+-----+-----------------+----------+----------+------------------+--------------------+\n",
            "|YidceGRiIFx4Zjh3X...|             Teacher| 10+ years|      MORTGAGE|   42000.0|             0.0|           Verified|   283xx|        NC|    47195.0|   188779.0|  50296|    Current|     6500.0|   NC|       6500.0| 36 months|  0.1774|   13|   19 August 2019|     false|Individual|  home_improvement|    Home improvement|\n",
            "|YiJceDA0MjtceGVmX...| Maintenance Analyst|   9 years|      MORTGAGE|  116004.0|             0.0|    Source Verified|   984xx|        WA|    12231.0|   354686.0|  12297| Fully Paid|     3000.0|   WA|       3000.0| 36 months|   0.263|   24|     17 July 2017|     false|Individual|debt_consolidation|  Debt consolidation|\n",
            "|YidceGI5XHgwNXZce...|               owner| 10+ years|      MORTGAGE|  166000.0|             0.0|       Not Verified|   906xx|        CA|     3374.0|    40483.0| 173548| Fully Paid|    17000.0|   CA|      17000.0| 60 months|  0.1333|   15|  15 October 2015|     false|Individual|    small_business|            Business|\n",
            "|YidFXHg5M1x4ZTNce...|          supervisor|   5 years|          RENT|   40000.0|             0.0|    Source Verified|   641xx|        MO|     1703.0|    11920.0|  37086| Fully Paid|     5500.0|   MO|       5500.0| 36 months|  0.1903|   19|      17 May 2017|     false|Individual|debt_consolidation|  Debt consolidation|\n",
            "|YidceDhlXHgxZlx4Y...|     prosthetic tech|   9 years|      MORTGAGE|   88000.0|             0.0|       Not Verified|   117xx|        NY|    69566.0|   347829.0|  25352|    Current|     5000.0|   NY|       5000.0| 36 months|  0.0607|    3|    18 April 2018|     false|Individual|             other|               Other|\n",
            "|YiJcclx4N2Z8XHhkN...|Assistant Vice Pr...| 10+ years|          RENT|  180000.0|             0.0|    Source Verified|   062xx|        CT|     6216.0|    93234.0|  97126|    Current|    10000.0|   CT|      10000.0| 36 months|  0.1612|   15|  19 October 2019|     false|Individual|       credit_card|Credit card refin...|\n",
            "|YidlXHhjNH1ceGZhX...|       Sales Manager| 10+ years|      MORTGAGE|   60000.0|             0.0|    Source Verified|   336xx|        FL|    27389.0|   219114.0| 117878|    Current|    12000.0|   FL|      12000.0| 36 months|  0.0799|    5|     16 July 2016|     false|INDIVIDUAL|debt_consolidation|  Debt consolidation|\n",
            "|YidceDE1XHhlMDZ2X...|Executive Directo...|  < 1 year|      MORTGAGE|  153000.0|             0.0|    Source Verified|   761xx|        TX|    42332.0|   338656.0| 162097| Fully Paid|    16000.0|   TX|      16000.0| 36 months|  0.1601|   11|      18 May 2018|     false|Individual|             house|         Home buying|\n",
            "|YiJceGFlXHhmZFx4O...|Social Studies Te...|   9 years|          RENT|   62000.0|             0.0|       Not Verified|   151xx|        PA|     3205.0|    35260.0|  25613|    Current|     5000.0|   PA|       5000.0| 36 months|  0.0649|    5|      16 May 2016|     false|INDIVIDUAL|             other|               Other|\n",
            "|YidceDk1LFx4YmZce...|             Driver | 10+ years|      MORTGAGE|  104000.0|             0.0|    Source Verified|   431xx|        OH|    15688.0|   219636.0| 168055|    Current|    16000.0|   OH|      16000.0| 60 months|  0.1499|   14|    17 April 2017|     false|Individual|debt_consolidation|  Debt consolidation|\n",
            "|YiJceDgzXHg5NS5ce...|Superintendent of...| 10+ years|          RENT|  104000.0|             0.0|           Verified|   908xx|        CA|    10793.0|   140305.0| 191861|    Current|    20000.0|   CA|      20000.0| 36 months|  0.1075|    8|    16 April 2016|     false|INDIVIDUAL|debt_consolidation|  Debt consolidation|\n",
            "|YidceGEzXHhiYjJce...|Medical laborator...|   6 years|           OWN|   79000.0|             0.0|           Verified|   296xx|        SC|     3727.0|    52184.0| 239818|    Current|    30000.0|   SC|      30000.0| 36 months|  0.1602|   14|   17 August 2017|     false|Individual|debt_consolidation|  Debt consolidation|\n",
            "|YidKXHhjMFx4YTlce...|             Teacher| 10+ years|      MORTGAGE|   21000.0|             0.0|           Verified|   770xx|        TX|     5508.0|    44065.0|  17646| Fully Paid|     4000.0|   TX|       4000.0| 36 months|  0.0917|    6| 15 November 2015|     false|Individual|  home_improvement|    Home improvement|\n",
            "|YidceGVhXHhjN1x4Y...|               Owner|   3 years|      MORTGAGE|   55800.0|         76600.0|       Not Verified|   498xx|        MI|    18297.0|   128076.0|  92256|    Current|    10000.0|   MI|      10000.0| 36 months|  0.1171|   10|     19 July 2019|     false| Joint App|       credit_card|Credit card refin...|\n",
            "|YidhXHhjZlx4MTA6X...|   kaiser permanente| 10+ years|          RENT|  125000.0|             0.0|           Verified|   921xx|        CA|     3763.0|    30105.0| 195929| Fully Paid|    20000.0|   CA|      20000.0| 36 months|   0.224|   22|13 September 2013|     false|INDIVIDUAL|    small_business|            Business|\n",
            "|YidceDgxPzhceGM0X...|   Financial Advisor|  < 1 year|          RENT|   64000.0|             0.0|    Source Verified|   223xx|        VA|     3157.0|    41045.0| 203609|    Current|    20800.0|   VA|      20800.0| 36 months|  0.1041|    9|    18 March 2018|     false|Individual|             other|               Other|\n",
            "|YidceGE4XHg4Zlx4Y...|            Staff PT|   5 years|          RENT|   85000.0|             0.0|           Verified|   114xx|        NY|     3443.0|    41312.0| 187429| Fully Paid|    20000.0|   NY|      20000.0| 36 months|  0.0818|   10|     15 July 2015|     false|Individual|debt_consolidation|  Debt consolidation|\n",
            "|YidceGEwXHhjMVx4O...|    Personal Shopper|   7 years|          RENT|   30000.0|             0.0|    Source Verified|   891xx|        NV|     1077.0|    11844.0|  19858|    Current|     4000.0|   NV|       4000.0| 36 months|  0.1774|   12|19 September 2019|     false|Individual|       credit_card|Credit card refin...|\n",
            "|YidceDhhdFx4ZjJ3R...|             Teacher| 10+ years|      MORTGAGE|   68000.0|             0.0|       Not Verified|   804xx|        CO|    33640.0|   201841.0| 146220| Fully Paid|    15000.0|   CO|      15000.0| 36 months|  0.0649|    2| 15 December 2015|     false|Individual|  home_improvement|    Home improvement|\n",
            "|YiJceGE3XHhjZVx4Y...|             Teacher|  < 1 year|           ANY|  150000.0|             0.0|    Source Verified|   346xx|        FL|     4723.0|    28335.0| 151449|    Current|    15000.0|   FL|      15000.0| 36 months|   0.124|    8|    19 April 2019|     false|Individual|debt_consolidation|  Debt consolidation|\n",
            "+--------------------+--------------------+----------+--------------+----------+----------------+-------------------+--------+----------+-----------+-----------+-------+-----------+-----------+-----+-------------+----------+--------+-----+-----------------+----------+----------+------------------+--------------------+\n",
            "only showing top 20 rows\n",
            "\n"
          ]
        }
      ]
    },
    {
      "cell_type": "code",
      "source": [
        "#Encoding:\n",
        "from pyspark.sql.functions import col, when, regexp_extract\n",
        "from pyspark.ml.feature import StringIndexer, OneHotEncoder\n",
        "from pyspark.sql.functions import lower\n",
        "\n",
        "\n",
        "#Emp Length: Change to numerical\n",
        "emp_length_temp = df.select(\"emp_length\")\n",
        "df = df.withColumn(\"emp_length_temp\", emp_length_temp[\"emp_length\"])\n",
        "df = df.withColumn(\n",
        "    \"emp_length\",\n",
        "    when(col(\"emp_length\").like(\"< 1 year\"), 0.5)\n",
        "    .when(col(\"emp_length\").like(\"1 year\"), 1)\n",
        "    .when(col(\"emp_length\").like(\"2 years\"), 2)\n",
        "    .when(col(\"emp_length\").like(\"3 years\"), 3)\n",
        "    .when(col(\"emp_length\").like(\"4 years\"), 4)\n",
        "    .when(col(\"emp_length\").like(\"5 years\"), 5)\n",
        "    .when(col(\"emp_length\").like(\"6 years\"), 6)\n",
        "    .when(col(\"emp_length\").like(\"7 years\"), 7)\n",
        "    .when(col(\"emp_length\").like(\"8 years\"), 8)\n",
        "    .when(col(\"emp_length\").like(\"9 years\"), 9)\n",
        "    .when(col(\"emp_length\").like(\"10+ years\"), 10)\n",
        ")\n",
        "#State: Label Encoding\n",
        "state_indexer = StringIndexer(inputCol=\"state\", outputCol=\"state_encoded\")\n",
        "df = state_indexer.fit(df).transform(df)\n",
        "\n",
        "# Convert values in the \"home_ownership\" column to lowercase because there are INDIVIDUAL and Individual categories, so this let them both individual\n",
        "df = df.withColumn(\"type\", lower(col(\"type\")))\n",
        "\n",
        "#Home Ownership, Verification Status, and Type: One Hot Encoding\n",
        "columns_to_encode = [\"home_ownership\", \"verification_status\", \"type\"]\n",
        "\n",
        "for column in columns_to_encode:\n",
        "    unique_values = [row[0] for row in df.select(column).distinct().collect()]\n",
        "\n",
        "    for value in unique_values:\n",
        "        new_col_name = f\"{column}_{value}\"\n",
        "        df = df.withColumn(\n",
        "            new_col_name,\n",
        "            when(col(column) == value, 1).otherwise(0)\n",
        "        )\n",
        "\n",
        "# Purpose: Label Encoding\n",
        "purpose_indexer = StringIndexer(inputCol=\"purpose\", outputCol=\"purpose_encoded\")\n",
        "df = purpose_indexer.fit(df).transform(df)\n",
        "\n",
        "#Grade - Discretize to letter grade\n",
        "df = df.withColumn(\n",
        "    \"grade_letter\",\n",
        "    when((col(\"grade\") >= 1) & (col(\"grade\") <= 5), \"A\")\n",
        "    .when((col(\"grade\") >= 6) & (col(\"grade\") <= 10), \"B\")\n",
        "    .when((col(\"grade\") >= 11) & (col(\"grade\") <= 15), \"C\")\n",
        "    .when((col(\"grade\") >= 16) & (col(\"grade\") <= 20), \"D\")\n",
        "    .when((col(\"grade\") >= 21) & (col(\"grade\") <= 25), \"E\")\n",
        "    .when((col(\"grade\") >= 26) & (col(\"grade\") <= 30), \"F\")\n",
        "    .when((col(\"grade\") >= 31) & (col(\"grade\") <= 35), \"G\")\n",
        ")\n",
        "\n",
        "# Standardize column names\n",
        "df = df.selectExpr([f\"`{col}` as {col.lower().replace(' ', '_')}\" for col in df.columns])\n",
        "df.show(20)\n"
      ],
      "metadata": {
        "colab": {
          "base_uri": "https://localhost:8080/"
        },
        "id": "sncLn0ATeTAc",
        "outputId": "51f82cca-f39e-4e24-d2db-a4be5feddbe9"
      },
      "execution_count": 47,
      "outputs": [
        {
          "output_type": "stream",
          "name": "stdout",
          "text": [
            "+--------------------+--------------------+----------+--------------+----------+----------------+-------------------+--------+----------+-----------+-----------+-------+-----------+-----------+-----+-------------+----------+--------+-----+-----------------+----------+----------+------------------+--------------------+---------------+-------------+------------------+-------------------+-----------------------+------------------+-------------------+----------------------------+-----------------------------------+--------------------------------+----------+---------------+--------------+---------------+---------------+------------+\n",
            "|         customer_id|           emp_title|emp_length|home_ownership|annual_inc|annual_inc_joint|verification_status|zip_code|addr_state|avg_cur_bal|tot_cur_bal|loan_id|loan_status|loan_amount|state|funded_amount|      term|int_rate|grade|       issue_date|pymnt_plan|      type|           purpose|         description|emp_length_temp|state_encoded|home_ownership_own|home_ownership_rent|home_ownership_mortgage|home_ownership_any|home_ownership_none|verification_status_verified|verification_status_source_verified|verification_status_not_verified|type_joint|type_direct_pay|type_joint_app|type_individual|purpose_encoded|grade_letter|\n",
            "+--------------------+--------------------+----------+--------------+----------+----------------+-------------------+--------+----------+-----------+-----------+-------+-----------+-----------+-----+-------------+----------+--------+-----+-----------------+----------+----------+------------------+--------------------+---------------+-------------+------------------+-------------------+-----------------------+------------------+-------------------+----------------------------+-----------------------------------+--------------------------------+----------+---------------+--------------+---------------+---------------+------------+\n",
            "|YidceGRiIFx4Zjh3X...|             Teacher|      10.0|      MORTGAGE|   42000.0|             0.0|           Verified|   283xx|        NC|    47195.0|   188779.0|  50296|    Current|     6500.0|   NC|       6500.0| 36 months|  0.1774|   13|   19 August 2019|     false|individual|  home_improvement|    Home improvement|      10+ years|          9.0|                 0|                  0|                      1|                 0|                  0|                           1|                                  0|                               0|         0|              0|             0|              1|            2.0|           C|\n",
            "|YiJceDA0MjtceGVmX...| Maintenance Analyst|       9.0|      MORTGAGE|  116004.0|             0.0|    Source Verified|   984xx|        WA|    12231.0|   354686.0|  12297| Fully Paid|     3000.0|   WA|       3000.0| 36 months|   0.263|   24|     17 July 2017|     false|individual|debt_consolidation|  Debt consolidation|        9 years|         15.0|                 0|                  0|                      1|                 0|                  0|                           0|                                  1|                               0|         0|              0|             0|              1|            0.0|           E|\n",
            "|YidceGI5XHgwNXZce...|               owner|      10.0|      MORTGAGE|  166000.0|             0.0|       Not Verified|   906xx|        CA|     3374.0|    40483.0| 173548| Fully Paid|    17000.0|   CA|      17000.0| 60 months|  0.1333|   15|  15 October 2015|     false|individual|    small_business|            Business|      10+ years|          0.0|                 0|                  0|                      1|                 0|                  0|                           0|                                  0|                               1|         0|              0|             0|              1|            7.0|           C|\n",
            "|YidFXHg5M1x4ZTNce...|          supervisor|       5.0|          RENT|   40000.0|             0.0|    Source Verified|   641xx|        MO|     1703.0|    11920.0|  37086| Fully Paid|     5500.0|   MO|       5500.0| 36 months|  0.1903|   19|      17 May 2017|     false|individual|debt_consolidation|  Debt consolidation|        5 years|         21.0|                 0|                  1|                      0|                 0|                  0|                           0|                                  1|                               0|         0|              0|             0|              1|            0.0|           D|\n",
            "|YidceDhlXHgxZlx4Y...|     prosthetic tech|       9.0|      MORTGAGE|   88000.0|             0.0|       Not Verified|   117xx|        NY|    69566.0|   347829.0|  25352|    Current|     5000.0|   NY|       5000.0| 36 months|  0.0607|    3|    18 April 2018|     false|individual|             other|               Other|        9 years|          2.0|                 0|                  0|                      1|                 0|                  0|                           0|                                  0|                               1|         0|              0|             0|              1|            3.0|           A|\n",
            "|YiJcclx4N2Z8XHhkN...|Assistant Vice Pr...|      10.0|          RENT|  180000.0|             0.0|    Source Verified|   062xx|        CT|     6216.0|    93234.0|  97126|    Current|    10000.0|   CT|      10000.0| 36 months|  0.1612|   15|  19 October 2019|     false|individual|       credit_card|Credit card refin...|      10+ years|         19.0|                 0|                  1|                      0|                 0|                  0|                           0|                                  1|                               0|         0|              0|             0|              1|            1.0|           C|\n",
            "|YidlXHhjNH1ceGZhX...|       Sales Manager|      10.0|      MORTGAGE|   60000.0|             0.0|    Source Verified|   336xx|        FL|    27389.0|   219114.0| 117878|    Current|    12000.0|   FL|      12000.0| 36 months|  0.0799|    5|     16 July 2016|     false|individual|debt_consolidation|  Debt consolidation|      10+ years|          3.0|                 0|                  0|                      1|                 0|                  0|                           0|                                  1|                               0|         0|              0|             0|              1|            0.0|           A|\n",
            "|YidceDE1XHhlMDZ2X...|Executive Directo...|       0.5|      MORTGAGE|  153000.0|             0.0|    Source Verified|   761xx|        TX|    42332.0|   338656.0| 162097| Fully Paid|    16000.0|   TX|      16000.0| 36 months|  0.1601|   11|      18 May 2018|     false|individual|             house|         Home buying|       < 1 year|          1.0|                 0|                  0|                      1|                 0|                  0|                           0|                                  1|                               0|         0|              0|             0|              1|            9.0|           C|\n",
            "|YiJceGFlXHhmZFx4O...|Social Studies Te...|       9.0|          RENT|   62000.0|             0.0|       Not Verified|   151xx|        PA|     3205.0|    35260.0|  25613|    Current|     5000.0|   PA|       5000.0| 36 months|  0.0649|    5|      16 May 2016|     false|individual|             other|               Other|        9 years|          6.0|                 0|                  1|                      0|                 0|                  0|                           0|                                  0|                               1|         0|              0|             0|              1|            3.0|           A|\n",
            "|YidceDk1LFx4YmZce...|             Driver |      10.0|      MORTGAGE|  104000.0|             0.0|    Source Verified|   431xx|        OH|    15688.0|   219636.0| 168055|    Current|    16000.0|   OH|      16000.0| 60 months|  0.1499|   14|    17 April 2017|     false|individual|debt_consolidation|  Debt consolidation|      10+ years|          7.0|                 0|                  0|                      1|                 0|                  0|                           0|                                  1|                               0|         0|              0|             0|              1|            0.0|           C|\n",
            "|YiJceDgzXHg5NS5ce...|Superintendent of...|      10.0|          RENT|  104000.0|             0.0|           Verified|   908xx|        CA|    10793.0|   140305.0| 191861|    Current|    20000.0|   CA|      20000.0| 36 months|  0.1075|    8|    16 April 2016|     false|individual|debt_consolidation|  Debt consolidation|      10+ years|          0.0|                 0|                  1|                      0|                 0|                  0|                           1|                                  0|                               0|         0|              0|             0|              1|            0.0|           B|\n",
            "|YidceGEzXHhiYjJce...|Medical laborator...|       6.0|           OWN|   79000.0|             0.0|           Verified|   296xx|        SC|     3727.0|    52184.0| 239818|    Current|    30000.0|   SC|      30000.0| 36 months|  0.1602|   14|   17 August 2017|     false|individual|debt_consolidation|  Debt consolidation|        6 years|         26.0|                 1|                  0|                      0|                 0|                  0|                           1|                                  0|                               0|         0|              0|             0|              1|            0.0|           C|\n",
            "|YidKXHhjMFx4YTlce...|             Teacher|      10.0|      MORTGAGE|   21000.0|             0.0|           Verified|   770xx|        TX|     5508.0|    44065.0|  17646| Fully Paid|     4000.0|   TX|       4000.0| 36 months|  0.0917|    6| 15 November 2015|     false|individual|  home_improvement|    Home improvement|      10+ years|          1.0|                 0|                  0|                      1|                 0|                  0|                           1|                                  0|                               0|         0|              0|             0|              1|            2.0|           B|\n",
            "|YidceGVhXHhjN1x4Y...|               Owner|       3.0|      MORTGAGE|   55800.0|         76600.0|       Not Verified|   498xx|        MI|    18297.0|   128076.0|  92256|    Current|    10000.0|   MI|      10000.0| 36 months|  0.1171|   10|     19 July 2019|     false| joint app|       credit_card|Credit card refin...|        3 years|         12.0|                 0|                  0|                      1|                 0|                  0|                           0|                                  0|                               1|         0|              0|             1|              0|            1.0|           B|\n",
            "|YidhXHhjZlx4MTA6X...|   kaiser permanente|      10.0|          RENT|  125000.0|             0.0|           Verified|   921xx|        CA|     3763.0|    30105.0| 195929| Fully Paid|    20000.0|   CA|      20000.0| 36 months|   0.224|   22|13 September 2013|     false|individual|    small_business|            Business|      10+ years|          0.0|                 0|                  1|                      0|                 0|                  0|                           1|                                  0|                               0|         0|              0|             0|              1|            7.0|           E|\n",
            "|YidceDgxPzhceGM0X...|   Financial Advisor|       0.5|          RENT|   64000.0|             0.0|    Source Verified|   223xx|        VA|     3157.0|    41045.0| 203609|    Current|    20800.0|   VA|      20800.0| 36 months|  0.1041|    9|    18 March 2018|     false|individual|             other|               Other|       < 1 year|         10.0|                 0|                  1|                      0|                 0|                  0|                           0|                                  1|                               0|         0|              0|             0|              1|            3.0|           B|\n",
            "|YidceGE4XHg4Zlx4Y...|            Staff PT|       5.0|          RENT|   85000.0|             0.0|           Verified|   114xx|        NY|     3443.0|    41312.0| 187429| Fully Paid|    20000.0|   NY|      20000.0| 36 months|  0.0818|   10|     15 July 2015|     false|individual|debt_consolidation|  Debt consolidation|        5 years|          2.0|                 0|                  1|                      0|                 0|                  0|                           1|                                  0|                               0|         0|              0|             0|              1|            0.0|           B|\n",
            "|YidceGEwXHhjMVx4O...|    Personal Shopper|       7.0|          RENT|   30000.0|             0.0|    Source Verified|   891xx|        NV|     1077.0|    11844.0|  19858|    Current|     4000.0|   NV|       4000.0| 36 months|  0.1774|   12|19 September 2019|     false|individual|       credit_card|Credit card refin...|        7 years|         22.0|                 0|                  1|                      0|                 0|                  0|                           0|                                  1|                               0|         0|              0|             0|              1|            1.0|           C|\n",
            "|YidceDhhdFx4ZjJ3R...|             Teacher|      10.0|      MORTGAGE|   68000.0|             0.0|       Not Verified|   804xx|        CO|    33640.0|   201841.0| 146220| Fully Paid|    15000.0|   CO|      15000.0| 36 months|  0.0649|    2| 15 December 2015|     false|individual|  home_improvement|    Home improvement|      10+ years|         16.0|                 0|                  0|                      1|                 0|                  0|                           0|                                  0|                               1|         0|              0|             0|              1|            2.0|           A|\n",
            "|YiJceGE3XHhjZVx4Y...|             Teacher|       0.5|           ANY|  150000.0|             0.0|    Source Verified|   346xx|        FL|     4723.0|    28335.0| 151449|    Current|    15000.0|   FL|      15000.0| 36 months|   0.124|    8|    19 April 2019|     false|individual|debt_consolidation|  Debt consolidation|       < 1 year|          3.0|                 0|                  0|                      0|                 1|                  0|                           0|                                  1|                               0|         0|              0|             0|              1|            0.0|           B|\n",
            "+--------------------+--------------------+----------+--------------+----------+----------------+-------------------+--------+----------+-----------+-----------+-------+-----------+-----------+-----+-------------+----------+--------+-----+-----------------+----------+----------+------------------+--------------------+---------------+-------------+------------------+-------------------+-----------------------+------------------+-------------------+----------------------------+-----------------------------------+--------------------------------+----------+---------------+--------------+---------------+---------------+------------+\n",
            "only showing top 20 rows\n",
            "\n"
          ]
        }
      ]
    },
    {
      "cell_type": "code",
      "source": [
        "from pyspark.sql.window import Window\n",
        "from pyspark.sql.functions import lag, last\n",
        "\n",
        "# Create window specifications\n",
        "window_by_grade = Window.partitionBy(\"grade\").orderBy(\"issue_date\")\n",
        "window_by_state_grade = Window.partitionBy(\"state\", \"grade\").orderBy(\"issue_date\")\n",
        "\n",
        "# Add the required features\n",
        "df = df.withColumn(\"prev_loan_issue_date_grade\", lag(\"issue_date\").over(window_by_grade)) \\\n",
        "       .withColumn(\"prev_loan_amount_grade\", lag(\"loan_amount\").over(window_by_grade)) \\\n",
        "       .withColumn(\"prev_loan_issue_date_state_grade\", lag(\"issue_date\").over(window_by_state_grade)) \\\n",
        "       .withColumn(\"prev_loan_amount_state_grade\", lag(\"loan_amount\").over(window_by_state_grade))\n",
        "\n",
        "\n",
        "# Preview the updated DataFrame\n",
        "df.select(\"state\", \"grade\", \"issue_date\", \"prev_loan_issue_date_grade\", \"prev_loan_amount_grade\", \"prev_loan_issue_date_state_grade\", \"prev_loan_amount_state_grade\").show(20)"
      ],
      "metadata": {
        "colab": {
          "base_uri": "https://localhost:8080/"
        },
        "id": "olESpaFLyed4",
        "outputId": "0c9ffb89-c4e7-49ba-829a-36bb1a0eb8bc"
      },
      "execution_count": 48,
      "outputs": [
        {
          "output_type": "stream",
          "name": "stdout",
          "text": [
            "+-----+-----+-----------------+--------------------------+----------------------+--------------------------------+----------------------------+\n",
            "|state|grade|       issue_date|prev_loan_issue_date_grade|prev_loan_amount_grade|prev_loan_issue_date_state_grade|prev_loan_amount_state_grade|\n",
            "+-----+-----+-----------------+--------------------------+----------------------+--------------------------------+----------------------------+\n",
            "|   AK|    1|  16 January 2016|           16 January 2016|                9600.0|                            NULL|                        NULL|\n",
            "|   AK|    1| 18 November 2018|          18 November 2018|               24000.0|                 16 January 2016|                     20000.0|\n",
            "|   AK|    2|     14 July 2014|              14 July 2014|               16000.0|                            NULL|                        NULL|\n",
            "|   AK|    2|  18 October 2018|           18 October 2018|               13000.0|                    14 July 2014|                     12550.0|\n",
            "|   AK|    3|     17 July 2017|              17 July 2017|                2000.0|                            NULL|                        NULL|\n",
            "|   AK|    3|     19 June 2019|              19 June 2019|                4400.0|                    17 July 2017|                      7000.0|\n",
            "|   AK|    4|  18 January 2018|           18 January 2018|                2200.0|                            NULL|                        NULL|\n",
            "|   AK|    4|     18 June 2018|              18 June 2018|               18000.0|                 18 January 2018|                      3600.0|\n",
            "|   AK|    5|  16 January 2016|           16 January 2016|               10000.0|                            NULL|                        NULL|\n",
            "|   AK|    5|   17 August 2017|            17 August 2017|               20000.0|                 16 January 2016|                      8000.0|\n",
            "|   AK|    6|     15 July 2015|           15 January 2015|               15000.0|                            NULL|                        NULL|\n",
            "|   AK|    6| 15 November 2015|          15 November 2015|                8000.0|                    15 July 2015|                     15000.0|\n",
            "|   AK|    6|15 September 2015|           15 October 2015|                5000.0|                15 November 2015|                     35000.0|\n",
            "|   AK|    6|    17 March 2017|             17 March 2017|               14000.0|               15 September 2015|                     12000.0|\n",
            "|   AK|    6|18 September 2018|         18 September 2018|               15000.0|                   17 March 2017|                      3000.0|\n",
            "|   AK|    6|19 September 2019|         19 September 2019|                2000.0|               18 September 2018|                     32000.0|\n",
            "|   AK|    7| 14 November 2014|          14 November 2014|               35000.0|                            NULL|                        NULL|\n",
            "|   AK|    8|     15 July 2015|              15 July 2015|                5000.0|                            NULL|                        NULL|\n",
            "|   AK|    9|      18 May 2018|               18 May 2018|                4200.0|                            NULL|                        NULL|\n",
            "|   AK|    9|      18 May 2018|               18 May 2018|                8000.0|                     18 May 2018|                     35000.0|\n",
            "+-----+-----+-----------------+--------------------------+----------------------+--------------------------------+----------------------------+\n",
            "only showing top 20 rows\n",
            "\n"
          ]
        }
      ]
    },
    {
      "cell_type": "code",
      "source": [
        "df.show()"
      ],
      "metadata": {
        "colab": {
          "base_uri": "https://localhost:8080/"
        },
        "id": "8L0mfAjv3k-Y",
        "outputId": "bb1f7cb3-a9a4-4b8d-e1fa-bfd6f4e6b6a9"
      },
      "execution_count": 49,
      "outputs": [
        {
          "output_type": "stream",
          "name": "stdout",
          "text": [
            "+--------------------+--------------------+----------+--------------+----------+----------------+-------------------+--------+----------+-----------+-----------+-------+-----------+-----------+-----+-------------+----------+--------+-----+-----------------+----------+----------+------------------+--------------------+---------------+-------------+------------------+-------------------+-----------------------+------------------+-------------------+----------------------------+-----------------------------------+--------------------------------+----------+---------------+--------------+---------------+---------------+------------+--------------------------+----------------------+--------------------------------+----------------------------+\n",
            "|         customer_id|           emp_title|emp_length|home_ownership|annual_inc|annual_inc_joint|verification_status|zip_code|addr_state|avg_cur_bal|tot_cur_bal|loan_id|loan_status|loan_amount|state|funded_amount|      term|int_rate|grade|       issue_date|pymnt_plan|      type|           purpose|         description|emp_length_temp|state_encoded|home_ownership_own|home_ownership_rent|home_ownership_mortgage|home_ownership_any|home_ownership_none|verification_status_verified|verification_status_source_verified|verification_status_not_verified|type_joint|type_direct_pay|type_joint_app|type_individual|purpose_encoded|grade_letter|prev_loan_issue_date_grade|prev_loan_amount_grade|prev_loan_issue_date_state_grade|prev_loan_amount_state_grade|\n",
            "+--------------------+--------------------+----------+--------------+----------+----------------+-------------------+--------+----------+-----------+-----------+-------+-----------+-----------+-----+-------------+----------+--------+-----+-----------------+----------+----------+------------------+--------------------+---------------+-------------+------------------+-------------------+-----------------------+------------------+-------------------+----------------------------+-----------------------------------+--------------------------------+----------+---------------+--------------+---------------+---------------+------------+--------------------------+----------------------+--------------------------------+----------------------------+\n",
            "|YidceGYyLlx4MGI7J...|Systems Administr...|       5.0|      MORTGAGE|   74000.0|             0.0|       Not Verified|   996xx|        AK|    14237.0|   242027.0| 196222|    Current|    20000.0|   AK|      20000.0| 60 months|  0.0791|    1|  16 January 2016|     false|individual|debt_consolidation|  Debt consolidation|        5 years|         47.0|                 0|                  0|                      1|                 0|                  0|                           0|                                  0|                               1|         0|              0|             0|              1|            0.0|           A|           16 January 2016|                8000.0|                            NULL|                        NULL|\n",
            "|YidceDBmXHg5Zn1ce...|    Network Engineer|       2.0|      MORTGAGE|  105000.0|             0.0|           Verified|   996xx|        AK|    38975.0|   428723.0| 190516|    Current|    20000.0|   AK|      20000.0| 36 months|  0.0846|    1| 18 November 2018|     false|individual|debt_consolidation|  Debt consolidation|        2 years|         47.0|                 0|                  0|                      1|                 0|                  0|                           1|                                  0|                               0|         0|              0|             0|              1|            0.0|           A|          18 November 2018|               18500.0|                 16 January 2016|                     20000.0|\n",
            "|Yic1XHhkMGtceGZmI...|        Merchandiser|       5.0|          RENT|   45000.0|             0.0|       Not Verified|   996xx|        AK|     2968.0|    26716.0|  51750|    Current|     7000.0|   AK|       7000.0| 36 months|  0.0532|    3|     17 July 2017|     false|individual|debt_consolidation|  Debt consolidation|        5 years|         47.0|                 0|                  1|                      0|                 0|                  0|                           0|                                  0|                               1|         0|              0|             0|              1|            0.0|           A|              17 July 2017|               12000.0|                            NULL|                        NULL|\n",
            "|YiIlKFx4YjZceGE5f...|Assistant attorne...|      10.0|      MORTGAGE|   80000.0|             0.0|       Not Verified|   998xx|        AK|    26890.0|   591579.0|  52200|    Current|     7000.0|   AK|       7000.0| 36 months|  0.0702|    3|     19 June 2019|     false|individual|debt_consolidation|  Debt consolidation|      10+ years|         47.0|                 0|                  0|                      1|                 0|                  0|                           0|                                  0|                               1|         0|              0|             0|              1|            0.0|           A|              19 June 2019|               12000.0|                    17 July 2017|                      7000.0|\n",
            "|YidgXHg5MFx4Y2Zce...|   registered nurse |       4.0|      MORTGAGE|   70000.0|             0.0|    Source Verified|   996xx|        AK|     9579.0|   143682.0|  62445|    Current|     8000.0|   AK|       8000.0| 36 months|  0.0699|    5|  16 January 2016|     false|individual|       credit_card|Credit card refin...|        4 years|         47.0|                 0|                  0|                      1|                 0|                  0|                           0|                                  1|                               0|         0|              0|             0|              1|            1.0|           A|           16 January 2016|               30000.0|                            NULL|                        NULL|\n",
            "|YidceDA0XHhlOVx4Z...|Systems Administr...|       1.0|           OWN|  140000.0|             0.0|    Source Verified|   996xx|        AK|    33796.0|   473139.0| 254045| Fully Paid|    35000.0|   AK|      35000.0| 36 months|  0.0735|    5|   17 August 2017|     false|individual|       credit_card|Credit card refin...|         1 year|         47.0|                 1|                  0|                      0|                 0|                  0|                           0|                                  1|                               0|         0|              0|             0|              1|            1.0|           A|            17 August 2017|               13200.0|                 16 January 2016|                      8000.0|\n",
            "|YicjXHgxNFx4OGFce...|customer service ...|       9.0|          RENT|   60000.0|             0.0|       Not Verified|   995xx|        AK|     5508.0|    33048.0| 145189| Fully Paid|    15000.0|   AK|      15000.0| 36 months|  0.1153|    6|     15 July 2015|     false|individual|debt_consolidation|  Debt consolidation|        9 years|         47.0|                 0|                  1|                      0|                 0|                  0|                           0|                                  0|                               1|         0|              0|             0|              1|            0.0|           B|              15 July 2015|                9000.0|                            NULL|                        NULL|\n",
            "|YidceDlmXHgxOFx4Z...|Air Traffic Super...|      10.0|      MORTGAGE|  165000.0|             0.0|           Verified|   995xx|        AK|    49748.0|   298488.0| 254641| Fully Paid|    35000.0|   AK|      35000.0| 36 months|  0.0917|    6| 15 November 2015|     false|individual|debt_consolidation|  Debt consolidation|      10+ years|         47.0|                 0|                  0|                      1|                 0|                  0|                           1|                                  0|                               0|         0|              0|             0|              1|            0.0|           B|          15 November 2015|               10000.0|                    15 July 2015|                     15000.0|\n",
            "|YidoXHhiZVx4MThce...|  Judicial Law Clerk|       0.5|      MORTGAGE|   50000.0|             0.0|    Source Verified|   998xx|        AK|    10039.0|   250980.0| 119311| Fully Paid|    12000.0|   AK|      12000.0| 36 months|  0.0999|    6|15 September 2015|     false|individual|       credit_card|Credit card refin...|       < 1 year|         47.0|                 0|                  0|                      1|                 0|                  0|                           0|                                  1|                               0|         0|              0|             0|              1|            1.0|           B|         15 September 2015|               12000.0|                15 November 2015|                     35000.0|\n",
            "|YidceGI5fVx4Y2MpX...|Store Manager - R...|       4.0|      MORTGAGE|   62000.0|             0.0|       Not Verified|   995xx|        AK|     8956.0|   107467.0|  10341|Charged Off|     3000.0|   AK|       3000.0| 36 months|  0.1149|    6|    17 March 2017|     false|individual|  home_improvement|    Home improvement|        4 years|         47.0|                 0|                  0|                      1|                 0|                  0|                           0|                                  0|                               1|         0|              0|             0|              1|            2.0|           B|             17 March 2017|               14400.0|               15 September 2015|                     12000.0|\n",
            "|YidceGZmMlx4OWVcX...|    Business Manager|       3.0|          RENT|   83000.0|             0.0|           Verified|   995xx|        AK|    11280.0|   259437.0| 249617|    Current|    32000.0|   AK|      32000.0| 60 months|  0.1106|    6|18 September 2018|     false|individual|debt_consolidation|  Debt consolidation|        3 years|         47.0|                 0|                  1|                      0|                 0|                  0|                           1|                                  0|                               0|         0|              0|             0|              1|            0.0|           B|         18 September 2018|               10000.0|                   17 March 2017|                      3000.0|\n",
            "|YidceGQ2XHhkZlx4Y...|     Accounting Tech|       2.0|      MORTGAGE|   97000.0|             0.0|       Not Verified|   995xx|        AK|    31884.0|   382606.0| 105028|    Current|    10225.0|   AK|      10225.0| 36 months|  0.1171|    6|19 September 2019|     false|individual|       credit_card|Credit card refin...|        2 years|         47.0|                 0|                  0|                      1|                 0|                  0|                           0|                                  0|                               1|         0|              0|             0|              1|            1.0|           B|         19 September 2019|               10800.0|               18 September 2018|                     32000.0|\n",
            "|YidcXFx4Zjh+I1lTX...|Maintenance Techn...|       1.0|          RENT|   50000.0|             0.0|       Not Verified|   997xx|        AK|     1994.0|    15948.0| 138728| Fully Paid|    14000.0|   AK|      14000.0| 36 months|  0.1144|    7| 14 November 2014|     false|individual|       credit_card|Credit card refin...|         1 year|         47.0|                 0|                  1|                      0|                 0|                  0|                           0|                                  0|                               1|         0|              0|             0|              1|            1.0|           B|          14 November 2014|                8000.0|                            NULL|                        NULL|\n",
            "|YidceGUwdVx4OTk3X...|    Contract Manager|       0.5|      MORTGAGE|  165000.0|        330000.0|    Source Verified|   995xx|        AK|    31264.0|   437696.0| 258169|    Current|    35000.0|   AK|      35000.0| 60 months|  0.1007|    9|      18 May 2018|     false| joint app|debt_consolidation|  Debt consolidation|       < 1 year|         47.0|                 0|                  0|                      1|                 0|                  0|                           0|                                  1|                               0|         0|              0|             1|              0|            0.0|           B|               18 May 2018|                5000.0|                            NULL|                        NULL|\n",
            "|Yid3XHgwNVx4YTVce...|Assistant Fire Ma...|       0.5|          RENT|   48000.0|             0.0|           Verified|   996xx|        AK|     3443.0|    20659.0|  73728|    Current|     8800.0|   AK|       8800.0| 36 months|  0.1198|    9|      18 May 2018|     false|individual|    major_purchase|      Major purchase|       < 1 year|         47.0|                 0|                  1|                      0|                 0|                  0|                           1|                                  0|                               0|         0|              0|             0|              1|            4.0|           B|               18 May 2018|                4200.0|                     18 May 2018|                     35000.0|\n",
            "|YidnXHhiY1x4ZDZce...|          Pipefitter|      10.0|      MORTGAGE|  100000.0|        211000.0|           Verified|   997xx|        AK|    45399.0|   363194.0| 268597|    Current|    40000.0|   AK|      40000.0| 60 months|  0.1171|    9|    19 April 2019|     false| joint app|       credit_card|Credit card refin...|      10+ years|         47.0|                 0|                  0|                      1|                 0|                  0|                           1|                                  0|                               0|         0|              0|             1|              0|            1.0|           B|         18 September 2018|               25000.0|                     18 May 2018|                      8800.0|\n",
            "|YidceDljXHhjZmVce...| Director of Finance|       4.0|      MORTGAGE|  110000.0|             0.0|       Not Verified|   995xx|        AK|    11379.0|   182056.0| 191105| Fully Paid|    20000.0|   AK|      20000.0| 36 months|  0.0949|   10|     16 July 2016|     false|individual|       credit_card|Credit card refin...|        4 years|         47.0|                 0|                  0|                      1|                 0|                  0|                           0|                                  0|                               1|         0|              0|             0|              1|            1.0|           B|              16 July 2016|               15000.0|                            NULL|                        NULL|\n",
            "|Yidgelx4YmVceDA2Z...|           parts pro|       4.0|      MORTGAGE|   40500.0|             0.0|           Verified|   997xx|        AK|    27013.0|   189091.0| 113053|    Current|    11250.0|   AK|      11250.0| 36 months|  0.1147|   10|      16 May 2016|     false|individual|debt_consolidation|  Debt consolidation|        4 years|         47.0|                 0|                  0|                      1|                 0|                  0|                           1|                                  0|                               0|         0|              0|             0|              1|            0.0|           B|               16 May 2016|               10200.0|                    16 July 2016|                     20000.0|\n",
            "|YidceDEyXHhhY1x4Z...|Product Support T...|       7.0|          RENT|   91000.0|             0.0|       Not Verified|   995xx|        AK|     4797.0|    71951.0| 226624|    Current|    25000.0|   AK|      25000.0| 60 months|  0.1033|   10| 18 December 2018|     false|individual|debt_consolidation|  Debt consolidation|        7 years|         47.0|                 0|                  1|                      0|                 0|                  0|                           0|                                  0|                               1|         0|              0|             0|              1|            0.0|           B|          18 December 2018|               15000.0|                     16 May 2016|                     11250.0|\n",
            "|YidISWJceGQ4XHhiZ...|   Dental hygienist |      10.0|      MORTGAGE|   38000.0|        200000.0|    Source Verified|   997xx|        AK|    34179.0|   546860.0| 203062|    Current|    20425.0|   AK|      20425.0| 60 months|  0.1308|   10|     19 June 2019|     false| joint app|debt_consolidation|  Debt consolidation|      10+ years|         47.0|                 0|                  0|                      1|                 0|                  0|                           0|                                  1|                               0|         0|              0|             1|              0|            0.0|           B|              19 June 2019|                4000.0|                18 December 2018|                     25000.0|\n",
            "+--------------------+--------------------+----------+--------------+----------+----------------+-------------------+--------+----------+-----------+-----------+-------+-----------+-----------+-----+-------------+----------+--------+-----+-----------------+----------+----------+------------------+--------------------+---------------+-------------+------------------+-------------------+-----------------------+------------------+-------------------+----------------------------+-----------------------------------+--------------------------------+----------+---------------+--------------+---------------+---------------+------------+--------------------------+----------------------+--------------------------------+----------------------------+\n",
            "only showing top 20 rows\n",
            "\n"
          ]
        }
      ]
    },
    {
      "cell_type": "code",
      "source": [
        "count_value = df.filter(df['loan_status'] == 'Default').count()\n",
        "print(f\"Count of 'Default': {count_value}\")"
      ],
      "metadata": {
        "colab": {
          "base_uri": "https://localhost:8080/"
        },
        "id": "sDTktUM8s4HF",
        "outputId": "f1a18a9b-85b6-4f9f-f7ce-00c2aa427e86"
      },
      "execution_count": 50,
      "outputs": [
        {
          "output_type": "stream",
          "name": "stdout",
          "text": [
            "Count of 'Default': 1\n"
          ]
        }
      ]
    },
    {
      "cell_type": "code",
      "source": [
        "min = df.agg({\"annual_inc\": \"min\"}).collect()[0][0]\n",
        "max = df.agg({\"annual_inc\": \"max\"}).collect()[0][0]\n",
        "print(f\"Min: {min}, Max: {max}\")"
      ],
      "metadata": {
        "colab": {
          "base_uri": "https://localhost:8080/"
        },
        "id": "1tqwQCQ5uawd",
        "outputId": "a20061b0-c306-4c01-933e-1e8bb5fbaadf"
      },
      "execution_count": 51,
      "outputs": [
        {
          "output_type": "stream",
          "name": "stdout",
          "text": [
            "Min: 34.0, Max: 6200000.0\n"
          ]
        }
      ]
    },
    {
      "cell_type": "code",
      "source": [
        "#Identify the average loan amount and interest rate for loans marked as ”Default” in the Loan Status,\n",
        "#grouped by Emp Length and annual income ranges\n",
        "\n",
        "#SQL:\n",
        "df.createOrReplaceGlobalTempView(\"loans\")\n",
        "average = spark.sql(\"\"\"\n",
        "SELECT\n",
        "    emp_length,\n",
        "    CASE\n",
        "        WHEN annual_inc < 10000 THEN 'Low'\n",
        "        WHEN annual_inc BETWEEN 10000 AND 50000 THEN 'Mid-low'\n",
        "        WHEN annual_inc BETWEEN 50000 AND 500000 THEN 'Medium'\n",
        "        WHEN annual_inc BETWEEN 500000 AND 1000000 THEN 'Mid-High'\n",
        "        WHEN annual_inc BETWEEN 1000000 AND 5000000 THEN 'High'\n",
        "        ELSE 'Very High'\n",
        "\n",
        "    END AS income_range,\n",
        "    AVG(loan_amount) AS avg_loan_amount,\n",
        "    AVG(int_rate) AS avg_interest_rate\n",
        "FROM global_temp.loans\n",
        "WHERE loan_status = 'Default'\n",
        "GROUP BY emp_length, income_range;\"\"\")\n",
        "average.show()\n"
      ],
      "metadata": {
        "colab": {
          "base_uri": "https://localhost:8080/"
        },
        "id": "nh1uWPj9tiQo",
        "outputId": "947270d5-08b1-497f-f327-3b1bbcf599e4"
      },
      "execution_count": 52,
      "outputs": [
        {
          "output_type": "stream",
          "name": "stdout",
          "text": [
            "+----------+------------+---------------+-----------------+\n",
            "|emp_length|income_range|avg_loan_amount|avg_interest_rate|\n",
            "+----------+------------+---------------+-----------------+\n",
            "|       1.0|    Mid-High|        35000.0|           0.2589|\n",
            "+----------+------------+---------------+-----------------+\n",
            "\n"
          ]
        }
      ]
    },
    {
      "cell_type": "code",
      "source": [
        "#Spark:\n",
        "from pyspark.sql.functions import when, avg, col\n",
        "\n",
        "# Add an 'income_range' column using a CASE-like logic\n",
        "loans_with_income_range = df.withColumn(\n",
        "    \"income_range\",\n",
        "    when(col(\"annual_inc\") < 10000, \"Low\")\n",
        "    .when((col(\"annual_inc\") >= 10000) & (col(\"annual_inc\") <= 50000), \"Mid-low\")\n",
        "    .when((col(\"annual_inc\") > 50000) & (col(\"annual_inc\") <= 500000), \"Midium\")\n",
        "    .when((col(\"annual_inc\") > 500000) & (col(\"annual_inc\") <= 1000000), \"Mid-High\")\n",
        "    .when((col(\"annual_inc\") > 1000000) & (col(\"annual_inc\") <= 5000000), \"High\")\n",
        "    .otherwise(\"Very High\")\n",
        ")\n",
        "\n",
        "# Filter rows where loan_status = 'Default'\n",
        "filtered_loans = loans_with_income_range.filter(col(\"loan_status\") == \"Default\")\n",
        "\n",
        "# Group by 'emp_length' and 'income_range', then calculate averages\n",
        "average = filtered_loans.groupBy(\"emp_length\", \"income_range\").agg(\n",
        "    avg(\"loan_amount\").alias(\"avg_loan_amount\"),\n",
        "    avg(\"int_rate\").alias(\"avg_interest_rate\")\n",
        ")\n",
        "\n",
        "# Show the results\n",
        "average.show()\n"
      ],
      "metadata": {
        "colab": {
          "base_uri": "https://localhost:8080/"
        },
        "id": "UGSScUPU0AOo",
        "outputId": "fcfb79ae-31f0-4129-fcbe-2c716d6f91f5"
      },
      "execution_count": 53,
      "outputs": [
        {
          "output_type": "stream",
          "name": "stdout",
          "text": [
            "+----------+------------+---------------+-----------------+\n",
            "|emp_length|income_range|avg_loan_amount|avg_interest_rate|\n",
            "+----------+------------+---------------+-----------------+\n",
            "|       1.0|    Mid-High|        35000.0|           0.2589|\n",
            "+----------+------------+---------------+-----------------+\n",
            "\n"
          ]
        }
      ]
    },
    {
      "cell_type": "code",
      "source": [
        "#Calculate the average difference between Loan Amount and Funded Amount for each loan Grade and\n",
        "#sort by the grades with the largest differences\n",
        "#SQL:\n",
        "average_difference = spark.sql(\"\"\"\n",
        "SELECT\n",
        "    grade,\n",
        "    AVG(loan_amount - funded_amount) AS avg_difference\n",
        "FROM global_temp.loans\n",
        "GROUP BY grade\n",
        "ORDER BY avg_difference DESC;\n",
        "\"\"\")\n",
        "average_difference.show()\n",
        "#The difference is zero because the loan_amount feature is equal to the funced_amount feature."
      ],
      "metadata": {
        "colab": {
          "base_uri": "https://localhost:8080/"
        },
        "id": "SoVdq7eP0Gv8",
        "outputId": "3852a2e5-a316-43a8-ff24-147f68541f9a"
      },
      "execution_count": 54,
      "outputs": [
        {
          "output_type": "stream",
          "name": "stdout",
          "text": [
            "+-----+--------------+\n",
            "|grade|avg_difference|\n",
            "+-----+--------------+\n",
            "|   29|           0.0|\n",
            "|   26|           0.0|\n",
            "|   19|           0.0|\n",
            "|   22|           0.0|\n",
            "|    7|           0.0|\n",
            "|   34|           0.0|\n",
            "|   32|           0.0|\n",
            "|   31|           0.0|\n",
            "|   25|           0.0|\n",
            "|    6|           0.0|\n",
            "|    9|           0.0|\n",
            "|   27|           0.0|\n",
            "|   17|           0.0|\n",
            "|   33|           0.0|\n",
            "|   28|           0.0|\n",
            "|    5|           0.0|\n",
            "|    1|           0.0|\n",
            "|   10|           0.0|\n",
            "|    3|           0.0|\n",
            "|   12|           0.0|\n",
            "+-----+--------------+\n",
            "only showing top 20 rows\n",
            "\n"
          ]
        }
      ]
    },
    {
      "cell_type": "code",
      "source": [
        "#Spark:\n",
        "from pyspark.sql.functions import col, avg\n",
        "\n",
        "average_difference = df.withColumn(\"difference\", col(\"loan_amount\") - col(\"funded_amount\")) \\\n",
        "    .groupBy(\"grade\") \\\n",
        "    .agg(avg(\"difference\").alias(\"avg_difference\")) \\\n",
        "    .orderBy(col(\"avg_difference\").desc())\n",
        "average_difference.show()"
      ],
      "metadata": {
        "colab": {
          "base_uri": "https://localhost:8080/"
        },
        "id": "gQ_7E29N078Q",
        "outputId": "fae68944-f4c7-4c22-8eb6-4a02463b06c2"
      },
      "execution_count": 55,
      "outputs": [
        {
          "output_type": "stream",
          "name": "stdout",
          "text": [
            "+-----+--------------+\n",
            "|grade|avg_difference|\n",
            "+-----+--------------+\n",
            "|   29|           0.0|\n",
            "|   26|           0.0|\n",
            "|   19|           0.0|\n",
            "|   22|           0.0|\n",
            "|    7|           0.0|\n",
            "|   34|           0.0|\n",
            "|   32|           0.0|\n",
            "|   31|           0.0|\n",
            "|   25|           0.0|\n",
            "|    6|           0.0|\n",
            "|    9|           0.0|\n",
            "|   27|           0.0|\n",
            "|   17|           0.0|\n",
            "|   33|           0.0|\n",
            "|   28|           0.0|\n",
            "|    5|           0.0|\n",
            "|    1|           0.0|\n",
            "|   10|           0.0|\n",
            "|    3|           0.0|\n",
            "|   12|           0.0|\n",
            "+-----+--------------+\n",
            "only showing top 20 rows\n",
            "\n"
          ]
        }
      ]
    },
    {
      "cell_type": "code",
      "source": [
        "#Compare the total Loan Amount for loans with ”Verified” and ”Not Verified” Verification Status across\n",
        "#each state (Addr State).\n",
        "#SQL:\n",
        "total_loan = spark.sql(\"\"\"\n",
        "SELECT\n",
        "    addr_state,\n",
        "    verification_status,\n",
        "    SUM(loan_amount) AS total_loan_amount\n",
        "FROM global_temp.loans\n",
        "WHERE verification_status IN ('Verified', 'Not Verified')\n",
        "GROUP BY addr_state, verification_status\n",
        "ORDER BY addr_state, verification_status;\n",
        "\"\"\")\n",
        "total_loan.show()"
      ],
      "metadata": {
        "colab": {
          "base_uri": "https://localhost:8080/"
        },
        "id": "HCvjZp_i1C_z",
        "outputId": "6e287213-9f7f-443c-fd88-de82b9e3d25d"
      },
      "execution_count": 56,
      "outputs": [
        {
          "output_type": "stream",
          "name": "stdout",
          "text": [
            "+----------+-------------------+-----------------+\n",
            "|addr_state|verification_status|total_loan_amount|\n",
            "+----------+-------------------+-----------------+\n",
            "|        AK|       Not Verified|         330150.0|\n",
            "|        AK|           Verified|         249400.0|\n",
            "|        AL|       Not Verified|        1628575.0|\n",
            "|        AL|           Verified|        1394150.0|\n",
            "|        AR|       Not Verified|         903150.0|\n",
            "|        AR|           Verified|         834775.0|\n",
            "|        AZ|       Not Verified|        3774750.0|\n",
            "|        AZ|           Verified|        2545150.0|\n",
            "|        CA|       Not Verified|      1.8343025E7|\n",
            "|        CA|           Verified|      1.5368725E7|\n",
            "|        CO|       Not Verified|        2672250.0|\n",
            "|        CO|           Verified|        2266475.0|\n",
            "|        CT|       Not Verified|        2195050.0|\n",
            "|        CT|           Verified|        1759150.0|\n",
            "|        DC|       Not Verified|         217500.0|\n",
            "|        DC|           Verified|         402875.0|\n",
            "|        DE|       Not Verified|         456200.0|\n",
            "|        DE|           Verified|         601200.0|\n",
            "|        FL|       Not Verified|        9041900.0|\n",
            "|        FL|           Verified|        7801900.0|\n",
            "+----------+-------------------+-----------------+\n",
            "only showing top 20 rows\n",
            "\n"
          ]
        }
      ]
    },
    {
      "cell_type": "code",
      "source": [
        "#Spark:\n",
        "from pyspark.sql.functions import col, sum\n",
        "\n",
        "total_loan = df.filter(col(\"verification_status\").isin(\"Verified\", \"Not Verified\")) \\\n",
        "    .groupBy(\"addr_state\", \"verification_status\") \\\n",
        "    .agg(sum(\"loan_amount\").alias(\"total_loan_amount\")) \\\n",
        "    .orderBy(\"addr_state\", \"verification_status\")\n",
        "\n",
        "total_loan.show()"
      ],
      "metadata": {
        "colab": {
          "base_uri": "https://localhost:8080/"
        },
        "id": "1SXS2bhY2i3v",
        "outputId": "564770de-17f2-41aa-8094-4028f6dde56d"
      },
      "execution_count": 57,
      "outputs": [
        {
          "output_type": "stream",
          "name": "stdout",
          "text": [
            "+----------+-------------------+-----------------+\n",
            "|addr_state|verification_status|total_loan_amount|\n",
            "+----------+-------------------+-----------------+\n",
            "|        AK|       Not Verified|         330150.0|\n",
            "|        AK|           Verified|         249400.0|\n",
            "|        AL|       Not Verified|        1628575.0|\n",
            "|        AL|           Verified|        1394150.0|\n",
            "|        AR|       Not Verified|         903150.0|\n",
            "|        AR|           Verified|         834775.0|\n",
            "|        AZ|       Not Verified|        3774750.0|\n",
            "|        AZ|           Verified|        2545150.0|\n",
            "|        CA|       Not Verified|      1.8343025E7|\n",
            "|        CA|           Verified|      1.5368725E7|\n",
            "|        CO|       Not Verified|        2672250.0|\n",
            "|        CO|           Verified|        2266475.0|\n",
            "|        CT|       Not Verified|        2195050.0|\n",
            "|        CT|           Verified|        1759150.0|\n",
            "|        DC|       Not Verified|         217500.0|\n",
            "|        DC|           Verified|         402875.0|\n",
            "|        DE|       Not Verified|         456200.0|\n",
            "|        DE|           Verified|         601200.0|\n",
            "|        FL|       Not Verified|        9041900.0|\n",
            "|        FL|           Verified|        7801900.0|\n",
            "+----------+-------------------+-----------------+\n",
            "only showing top 20 rows\n",
            "\n"
          ]
        }
      ]
    },
    {
      "cell_type": "code",
      "source": [
        "#. Calculate the average time gap (in days) between consecutive loans for each grade using the new\n",
        "#features you added in the feature engineering phase\n",
        "#SQL:\n",
        "avg_difference = spark.sql(\"\"\"\n",
        "SELECT\n",
        "    grade,\n",
        "\n",
        "    AVG(DATEDIFF(TO_DATE(issue_date, 'dd MMMM yyyy'), TO_DATE(prev_loan_issue_date_grade, 'dd MMMM yyyy'))) AS avg_time_gap\n",
        "FROM global_temp.loans\n",
        "GROUP BY grade;\n",
        "\"\"\")\n",
        "avg_difference.show(35)\n"
      ],
      "metadata": {
        "colab": {
          "base_uri": "https://localhost:8080/"
        },
        "id": "OMf5tXgr2mNj",
        "outputId": "df546cba-e96f-4eee-cc27-5f9a2d2ed02c"
      },
      "execution_count": 58,
      "outputs": [
        {
          "output_type": "stream",
          "name": "stdout",
          "text": [
            "+-----+------------------+\n",
            "|grade|      avg_time_gap|\n",
            "+-----+------------------+\n",
            "|    1| 2.109612141652614|\n",
            "|    2|2.2952646239554317|\n",
            "|    3| 2.097233864207879|\n",
            "|    4| 2.149484536082474|\n",
            "|    5|2.2091152815013406|\n",
            "|    6|1.5598316295850871|\n",
            "|    7| 1.618860510805501|\n",
            "|    8|1.6059050064184852|\n",
            "|    9|               1.6|\n",
            "|   10|1.5979314802844216|\n",
            "|   11|1.6263157894736842|\n",
            "|   12|1.6114732724902217|\n",
            "|   13|1.6976439790575917|\n",
            "|   14|1.5876685934489403|\n",
            "|   15|1.7020997375328084|\n",
            "|   16|3.0977443609022557|\n",
            "|   17|3.1291139240506327|\n",
            "|   18|3.2474358974358974|\n",
            "|   19|3.3816689466484267|\n",
            "|   20|3.1480582524271843|\n",
            "|   21| 8.928853754940711|\n",
            "|   22| 9.188755020080322|\n",
            "|   23|   8.8212927756654|\n",
            "|   24| 7.752508361204013|\n",
            "|   25| 8.460674157303371|\n",
            "|   26|24.256410256410255|\n",
            "|   27|              32.4|\n",
            "|   28| 27.78205128205128|\n",
            "|   29|20.666666666666668|\n",
            "|   30|              24.5|\n",
            "|   31| 95.95238095238095|\n",
            "|   32| 80.45454545454545|\n",
            "|   33|           110.625|\n",
            "|   34|  79.6086956521739|\n",
            "|   35| 65.04347826086956|\n",
            "+-----+------------------+\n",
            "\n"
          ]
        }
      ]
    },
    {
      "cell_type": "code",
      "source": [
        "#Spark:\n",
        "from pyspark.sql.functions import to_date, datediff, avg\n",
        "from pyspark.sql.window import Window\n",
        "\n",
        "# Convert the date columns to proper date format\n",
        "df = df.withColumn(\"issue_date\", to_date(col(\"issue_date\"), \"dd MMMM yyyy\")) \\\n",
        "       .withColumn(\"prev_loan_issue_date_grade\", to_date(col(\"prev_loan_issue_date_grade\"), \"dd MMMM yyyy\"))\n",
        "\n",
        "# Calculate the time difference between dates\n",
        "df = df.withColumn(\"time_diff\", datediff(col(\"issue_date\"), col(\"prev_loan_issue_date_grade\")))\n",
        "\n",
        "# Calculate the average time gap grouped by grade\n",
        "avg_difference = df.groupBy(\"grade\") \\\n",
        "                   .agg(avg(\"time_diff\").alias(\"avg_time_gap\"))\n",
        "\n",
        "# Show the results\n",
        "avg_difference.show(35)\n"
      ],
      "metadata": {
        "colab": {
          "base_uri": "https://localhost:8080/"
        },
        "id": "c1daszVK44ah",
        "outputId": "29ded7d1-6262-4382-a6dc-a69bf55ebc43"
      },
      "execution_count": 59,
      "outputs": [
        {
          "output_type": "stream",
          "name": "stdout",
          "text": [
            "+-----+------------------+\n",
            "|grade|      avg_time_gap|\n",
            "+-----+------------------+\n",
            "|    1| 2.109612141652614|\n",
            "|    2|2.2952646239554317|\n",
            "|    3| 2.097233864207879|\n",
            "|    4| 2.149484536082474|\n",
            "|    5|2.2091152815013406|\n",
            "|    6|1.5598316295850871|\n",
            "|    7| 1.618860510805501|\n",
            "|    8|1.6059050064184852|\n",
            "|    9|               1.6|\n",
            "|   10|1.5979314802844216|\n",
            "|   11|1.6263157894736842|\n",
            "|   12|1.6114732724902217|\n",
            "|   13|1.6976439790575917|\n",
            "|   14|1.5876685934489403|\n",
            "|   15|1.7020997375328084|\n",
            "|   16|3.0977443609022557|\n",
            "|   17|3.1291139240506327|\n",
            "|   18|3.2474358974358974|\n",
            "|   19|3.3816689466484267|\n",
            "|   20|3.1480582524271843|\n",
            "|   21| 8.928853754940711|\n",
            "|   22| 9.188755020080322|\n",
            "|   23|   8.8212927756654|\n",
            "|   24| 7.752508361204013|\n",
            "|   25| 8.460674157303371|\n",
            "|   26|24.256410256410255|\n",
            "|   27|              32.4|\n",
            "|   28| 27.78205128205128|\n",
            "|   29|20.666666666666668|\n",
            "|   30|              24.5|\n",
            "|   31| 95.95238095238095|\n",
            "|   32| 80.45454545454545|\n",
            "|   33|           110.625|\n",
            "|   34|  79.6086956521739|\n",
            "|   35| 65.04347826086956|\n",
            "+-----+------------------+\n",
            "\n"
          ]
        }
      ]
    },
    {
      "cell_type": "code",
      "source": [
        "#. Identify the average difference in loan amounts between consecutive loans within the same state and\n",
        "#grade combination.\n",
        "#SQL:\n",
        "state_grade_diff = spark.sql(\"\"\"\n",
        "WITH lagged_loans AS (\n",
        "    SELECT\n",
        "        addr_state,\n",
        "        grade,\n",
        "        issue_date,\n",
        "        loan_amount,\n",
        "        LAG(loan_amount, 1) OVER (PARTITION BY addr_state, grade ORDER BY issue_date) AS prev_loan_amount\n",
        "    FROM global_temp.loans\n",
        ")\n",
        "SELECT\n",
        "    addr_state,\n",
        "    grade,\n",
        "    AVG(loan_amount - prev_loan_amount) AS avg_difference\n",
        "FROM lagged_loans\n",
        "WHERE prev_loan_amount IS NOT NULL\n",
        "GROUP BY addr_state, grade;\n",
        "\"\"\")\n",
        "state_grade_diff.show()\n"
      ],
      "metadata": {
        "colab": {
          "base_uri": "https://localhost:8080/"
        },
        "id": "QMaCIul44779",
        "outputId": "52f644e5-afa6-44b6-9153-faccddb831d5"
      },
      "execution_count": 60,
      "outputs": [
        {
          "output_type": "stream",
          "name": "stdout",
          "text": [
            "+----------+-----+-------------------+\n",
            "|addr_state|grade|     avg_difference|\n",
            "+----------+-----+-------------------+\n",
            "|        AK|    1|                0.0|\n",
            "|        AK|    2|            19450.0|\n",
            "|        AK|    3|                0.0|\n",
            "|        AK|    4|            26400.0|\n",
            "|        AK|    5|            27000.0|\n",
            "|        AK|    6|             -955.0|\n",
            "|        AK|    9|            15600.0|\n",
            "|        AK|   10| 141.66666666666666|\n",
            "|        AK|   11| -7333.333333333333|\n",
            "|        AK|   14|            4056.25|\n",
            "|        AK|   15|             1225.0|\n",
            "|        AK|   16|            16250.0|\n",
            "|        AK|   19|            21000.0|\n",
            "|        AK|   20|             5500.0|\n",
            "|        AK|   22|            29250.0|\n",
            "|        AL|    1| 1555.5555555555557|\n",
            "|        AL|    2|             1375.0|\n",
            "|        AL|    3| 2533.3333333333335|\n",
            "|        AL|    4|-472.72727272727275|\n",
            "|        AL|    5| 135.71428571428572|\n",
            "+----------+-----+-------------------+\n",
            "only showing top 20 rows\n",
            "\n"
          ]
        }
      ]
    },
    {
      "cell_type": "code",
      "source": [
        "#Spark:\n",
        "from pyspark.sql.window import Window\n",
        "from pyspark.sql.functions import lag, col, avg\n",
        "\n",
        "# Define the window specification\n",
        "window_spec = Window.partitionBy(\"addr_state\", \"grade\").orderBy(\"issue_date\")\n",
        "\n",
        "# Add the previous loan amount using the LAG function\n",
        "df = df.withColumn(\"prev_loan_amount\", lag(\"loan_amount\", 1).over(window_spec))\n",
        "\n",
        "# Calculate the average difference for each addr_state and grade\n",
        "state_grade_diff = df.filter(col(\"prev_loan_amount\").isNotNull()) \\\n",
        "    .withColumn(\"difference\", col(\"loan_amount\") - col(\"prev_loan_amount\")) \\\n",
        "    .groupBy(\"addr_state\", \"grade\") \\\n",
        "    .agg(avg(\"difference\").alias(\"avg_difference\"))\n",
        "\n",
        "# Display the results\n",
        "state_grade_diff.show()\n"
      ],
      "metadata": {
        "colab": {
          "base_uri": "https://localhost:8080/"
        },
        "id": "PyEga0Fd6jl_",
        "outputId": "ff5acc68-c507-4023-ff73-c8c6b53fe606"
      },
      "execution_count": 61,
      "outputs": [
        {
          "output_type": "stream",
          "name": "stdout",
          "text": [
            "+----------+-----+-------------------+\n",
            "|addr_state|grade|     avg_difference|\n",
            "+----------+-----+-------------------+\n",
            "|        AK|    1|                0.0|\n",
            "|        AK|    2|            19450.0|\n",
            "|        AK|    3|                0.0|\n",
            "|        AK|    4|            26400.0|\n",
            "|        AK|    5|            27000.0|\n",
            "|        AK|    6|             -955.0|\n",
            "|        AK|    9|            15600.0|\n",
            "|        AK|   10| 3058.3333333333335|\n",
            "|        AK|   11| -7333.333333333333|\n",
            "|        AK|   14|            4056.25|\n",
            "|        AK|   15|             1225.0|\n",
            "|        AK|   16|            16250.0|\n",
            "|        AK|   19|            21000.0|\n",
            "|        AK|   20|             3537.5|\n",
            "|        AK|   22|           -29250.0|\n",
            "|        AL|    1| 222.22222222222223|\n",
            "|        AL|    2|                0.0|\n",
            "|        AL|    3|  583.3333333333334|\n",
            "|        AL|    4|-472.72727272727275|\n",
            "|        AL|    5| 1821.4285714285713|\n",
            "+----------+-----+-------------------+\n",
            "only showing top 20 rows\n",
            "\n"
          ]
        }
      ]
    },
    {
      "cell_type": "code",
      "source": [
        "#Lookup Table:\n",
        "from pyspark.sql.functions import col\n",
        "from pyspark.sql import DataFrame\n",
        "from pyspark.sql import functions as F\n",
        "from pyspark.sql.types import StructType, StructField, StringType\n",
        "\n",
        "# Initialize an empty DataFrame with the same schema as the lookup table\n",
        "empty_schema = StructType([StructField(\"original_col\", StringType(), True), StructField(\"encoded_col\", StringType(), True)])\n",
        "df_lookup = spark.createDataFrame(spark.sparkContext.emptyRDD(), empty_schema)\n",
        "\n",
        "# Function to create a lookup table for a given column\n",
        "def create_lookup_table(df: DataFrame, original_col: str, encoded_col: str) -> DataFrame:\n",
        "    if encoded_col == \"Encoded with One_hot\":\n",
        "        lookup_df = df.select(original_col).distinct()\n",
        "        lookup_df = lookup_df.withColumn(\"encoded_col\", F.lit(\"one-hot encoded\"))\n",
        "    else:\n",
        "        # Select distinct values from the original and encoded columns\n",
        "        lookup_df = df.select(original_col, encoded_col).distinct()\n",
        "        lookup_df = lookup_df.select(\n",
        "            col(original_col).cast(\"string\").alias(\"original_col\"),\n",
        "            col(encoded_col).cast(\"string\").alias(\"encoded_col\")\n",
        "        )\n",
        "\n",
        "    return lookup_df\n",
        "\n",
        "\n",
        "df_lookup = df_lookup.union(create_lookup_table(df, \"emp_length_temp\", \"emp_length\"))\n",
        "df_lookup = df_lookup.union(create_lookup_table(df, \"home_ownership\", \"Encoded with One_hot\"))\n",
        "df_lookup = df_lookup.union(create_lookup_table(df, \"verification_status\", \"Encoded with One_hot\"))\n",
        "df_lookup = df_lookup.union(create_lookup_table(df, \"state\", \"state_encoded\"))\n",
        "df_lookup = df_lookup.union(create_lookup_table(df, \"type\", \"Encoded with One_hot\"))\n",
        "df_lookup = df_lookup.union(create_lookup_table(df, \"purpose\", \"purpose_encoded\"))\n",
        "df_lookup = df_lookup.union(create_lookup_table(df, \"grade\", \"grade_letter\"))\n",
        "df = df.drop(\"emp_length_temp\")\n",
        "\n",
        "#lookup table\n",
        "df_lookup.show(n=122)\n"
      ],
      "metadata": {
        "colab": {
          "base_uri": "https://localhost:8080/"
        },
        "id": "dEnAE2gtN7Xo",
        "outputId": "1dfc60a7-d5ba-4a4a-d35d-fc8410361b37"
      },
      "execution_count": 62,
      "outputs": [
        {
          "output_type": "stream",
          "name": "stdout",
          "text": [
            "+------------------+---------------+\n",
            "|      original_col|    encoded_col|\n",
            "+------------------+---------------+\n",
            "|           5 years|            5.0|\n",
            "|         10+ years|           10.0|\n",
            "|           4 years|            4.0|\n",
            "|           9 years|            9.0|\n",
            "|           7 years|            7.0|\n",
            "|          < 1 year|            0.5|\n",
            "|           2 years|            2.0|\n",
            "|           3 years|            3.0|\n",
            "|            1 year|            1.0|\n",
            "|           6 years|            6.0|\n",
            "|           8 years|            8.0|\n",
            "|               OWN|one-hot encoded|\n",
            "|              RENT|one-hot encoded|\n",
            "|          MORTGAGE|one-hot encoded|\n",
            "|               ANY|one-hot encoded|\n",
            "|              NONE|one-hot encoded|\n",
            "|          Verified|one-hot encoded|\n",
            "|   Source Verified|one-hot encoded|\n",
            "|      Not Verified|one-hot encoded|\n",
            "|                NV|           22.0|\n",
            "|                WI|           23.0|\n",
            "|                NJ|            5.0|\n",
            "|                AR|           31.0|\n",
            "|                AL|           25.0|\n",
            "|                VA|           10.0|\n",
            "|                MI|           12.0|\n",
            "|                KY|           28.0|\n",
            "|                GA|            8.0|\n",
            "|                SD|           43.0|\n",
            "|                OH|            7.0|\n",
            "|                WV|           38.0|\n",
            "|                UT|           32.0|\n",
            "|                ME|           48.0|\n",
            "|                NM|           35.0|\n",
            "|                MD|           13.0|\n",
            "|                SC|           26.0|\n",
            "|                NY|            2.0|\n",
            "|                WY|           49.0|\n",
            "|                OK|           29.0|\n",
            "|                DC|           41.0|\n",
            "|                WA|           15.0|\n",
            "|                FL|            3.0|\n",
            "|                PA|            6.0|\n",
            "|                ID|           44.0|\n",
            "|                TX|            1.0|\n",
            "|                TN|           20.0|\n",
            "|                CA|            0.0|\n",
            "|                CO|           16.0|\n",
            "|                OR|           24.0|\n",
            "|                MA|           14.0|\n",
            "|                MN|           17.0|\n",
            "|                NE|           40.0|\n",
            "|                MO|           21.0|\n",
            "|                AZ|           11.0|\n",
            "|                AK|           47.0|\n",
            "|                KS|           30.0|\n",
            "|                ND|           45.0|\n",
            "|                IN|           18.0|\n",
            "|                MS|           33.0|\n",
            "|                CT|           19.0|\n",
            "|                RI|           37.0|\n",
            "|                HI|           34.0|\n",
            "|                NC|            9.0|\n",
            "|                LA|           27.0|\n",
            "|                NH|           36.0|\n",
            "|                MT|           42.0|\n",
            "|                DE|           39.0|\n",
            "|                VT|           46.0|\n",
            "|                IL|            4.0|\n",
            "|             joint|one-hot encoded|\n",
            "|        direct_pay|one-hot encoded|\n",
            "|         joint app|one-hot encoded|\n",
            "|        individual|one-hot encoded|\n",
            "|       credit_card|            1.0|\n",
            "|          vacation|            8.0|\n",
            "|           wedding|           12.0|\n",
            "|             other|            3.0|\n",
            "|            moving|           10.0|\n",
            "|               car|            6.0|\n",
            "|           medical|            5.0|\n",
            "|             house|            9.0|\n",
            "|    major_purchase|            4.0|\n",
            "|  home_improvement|            2.0|\n",
            "|debt_consolidation|            0.0|\n",
            "|    small_business|            7.0|\n",
            "|  renewable_energy|           11.0|\n",
            "|                21|              E|\n",
            "|                29|              F|\n",
            "|                 9|              B|\n",
            "|                35|              G|\n",
            "|                 8|              B|\n",
            "|                33|              G|\n",
            "|                17|              D|\n",
            "|                10|              B|\n",
            "|                25|              E|\n",
            "|                16|              D|\n",
            "|                19|              D|\n",
            "|                20|              D|\n",
            "|                22|              E|\n",
            "|                24|              E|\n",
            "|                23|              E|\n",
            "|                12|              C|\n",
            "|                30|              F|\n",
            "|                 4|              A|\n",
            "|                13|              C|\n",
            "|                11|              C|\n",
            "|                27|              F|\n",
            "|                 5|              A|\n",
            "|                28|              F|\n",
            "|                32|              G|\n",
            "|                 2|              A|\n",
            "|                 3|              A|\n",
            "|                18|              D|\n",
            "|                14|              C|\n",
            "|                31|              G|\n",
            "|                15|              C|\n",
            "|                 7|              B|\n",
            "|                 6|              B|\n",
            "|                26|              F|\n",
            "|                34|              G|\n",
            "|                 1|              A|\n",
            "+------------------+---------------+\n",
            "\n"
          ]
        }
      ]
    },
    {
      "cell_type": "code",
      "source": [
        "#Saving the dataset:\n",
        "df.write.parquet(\"fintech_spark_52_3224_clean.parquet\", mode=\"overwrite\")\n",
        "df_lookup.write.parquet(\"lookup_spark_52_3224_clean.parquet\", mode=\"overwrite\")"
      ],
      "metadata": {
        "id": "ncRqddYeTjJu"
      },
      "execution_count": 63,
      "outputs": []
    },
    {
      "cell_type": "code",
      "source": [],
      "metadata": {
        "id": "2WlEPX6_Ei4Q"
      },
      "execution_count": null,
      "outputs": []
    }
  ]
}